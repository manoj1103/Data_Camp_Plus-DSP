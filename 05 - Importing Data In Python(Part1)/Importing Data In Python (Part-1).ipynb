{
 "cells": [
  {
   "cell_type": "markdown",
   "metadata": {},
   "source": [
    "# Importing Data In Python (Part-1) \n",
    "\n",
    "## Author : KARTHIK.J\n",
    "\n",
    "## Date :-  25-03-2019\n",
    "\n",
    "## Chapter(1) - Introduction and flat files\n",
    "\n",
    "### exercise(2) - Exploring your working directory\n",
    "\n",
    "\n",
    "In order to import data into Python, you should first have an idea of what files are in your working directory.\n",
    "\n",
    "IPython, which is running on DataCamp's servers, has a bunch of cool commands, including its **magic commands**. For example, starting a line with `!` gives you complete system shell access. This means that the IPython magic command `! ls` will display the contents of your current directory. Your task is to use the IPython magic command `! ls` to check out the contents of your current directory and answer the following question: which of the following files is in your working directory?\n",
    "\n",
    "### Possible Answers\n",
    "\n",
    "1. `huck_finn.txt`\n",
    "2. `titanic.csv`\n",
    "3. `moby_dick.txt`\n",
    "\n",
    "### answer:- (3)"
   ]
  },
  {
   "cell_type": "markdown",
   "metadata": {},
   "source": [
    "---\n",
    "\n",
    "### exercise(3) - Importing entire text files\n",
    "\n",
    "In this exercise, you'll be working with the file `moby_dick.txt`. It is a text file that contains the opening sentences of Moby Dick, one of the great American novels! Here you'll get experience opening a text file, printing its contents to the shell and, finally, closing it.\n",
    "\n",
    "### Instructions\n",
    "\n",
    "* Open the file `moby_dick.txt` as read-only and store it in the variable `file`. Make sure to pass the filename enclosed in quotation marks `''`.\n",
    "* Print the contents of the file to the shell using the `print()` function. As Hugo showed in the video, you'll need to apply the method `read()` to the object `file`.\n",
    "* Check whether the file is closed by executing `print(file.closed)`.\n",
    "* Close the file using the `close()` method.\n",
    "* Check again that the file is closed as you did above.\n"
   ]
  },
  {
   "cell_type": "markdown",
   "metadata": {},
   "source": [
    "``` python\n",
    "\n",
    "#Open a file: file\n",
    "file = open(____, ____)\n",
    "\n",
    "#Print it\n",
    "print(____)\n",
    "\n",
    "#Check whether file is closed\n",
    "print(file.closed)\n",
    "\n",
    "#Close file\n",
    "\n",
    "\n",
    "#Check whether file is closed\n",
    "\n",
    "```"
   ]
  },
  {
   "cell_type": "code",
   "execution_count": 1,
   "metadata": {
    "scrolled": true
   },
   "outputs": [
    {
     "name": "stdout",
     "output_type": "stream",
     "text": [
      "CHAPTER 1. Loomings.\n",
      "\n",
      "Call me Ishmael. Some years ago--never mind how long precisely--having\n",
      "little or no money in my purse, and nothing particular to interest me on\n",
      "shore, I thought I would sail about a little and see the watery part of\n",
      "the world. It is a way I have of driving off the spleen and regulating\n",
      "the circulation. Whenever I find myself growing grim about the mouth;\n",
      "whenever it is a damp, drizzly November in my soul; whenever I find\n",
      "myself involuntarily pausing before coffin warehouses, and bringing up\n",
      "the rear of every funeral I meet; and especially whenever my hypos get\n",
      "such an upper hand of me, that it requires a strong moral principle to\n",
      "prevent me from deliberately stepping into the street, and methodically\n",
      "knocking people's hats off--then, I account it high time to get to sea\n",
      "as soon as I can. This is my substitute for pistol and ball. With a\n",
      "philosophical flourish Cato throws himself upon his sword; I quietly\n",
      "take to the ship. There is nothing surprising in this. If they but knew\n",
      "it, almost all men in their degree, some time or other, cherish very\n",
      "nearly the same feelings towards the ocean with me.\n",
      "False\n",
      "True\n"
     ]
    }
   ],
   "source": [
    "# Open a file: file\n",
    "file = open('moby_dick.txt',mode='r' )\n",
    "\n",
    "# Print it\n",
    "print(file.read())\n",
    "\n",
    "# Check whether file is closed\n",
    "print(file.closed)\n",
    "\n",
    "# Close file\n",
    "file.close()\n",
    "\n",
    "# Check whether file is closed\n",
    "print(file.closed)\n"
   ]
  },
  {
   "cell_type": "markdown",
   "metadata": {},
   "source": [
    "### exercise(4) - Importing text files line by line\n",
    "\n",
    "For large files, we may not want to print all of their content to the shell: you may wish to print only the first few lines. Enter the `readline()` method, which allows you to do this. When a file called `file` is open, you can print out the first line by executing `file.readline()`. If you execute the same command again, the second line will print, and so on.\n",
    "\n",
    "In the introductory video, Hugo also introduced the concept of a context manager. He showed that you can bind a variable `file` by using a context manager construct:\n",
    "\n",
    "`with open('huck_finn.txt') as file:`\n",
    "\n",
    "While still within this construct, the variable `file` will be bound to `open('huck_finn.txt')`; thus, to print the file to the shell, all the code you need to execute is:\n",
    "\n",
    "`with open('huck_finn.txt') as file:\n",
    "    print(file.readline())`\n",
    "    \n",
    "You'll now use these tools to print the first few lines of `moby_dick.txt!`\n",
    "\n",
    "### Instructions\n",
    "\n",
    "* Open `moby_dick.txt` using the `with` context manager and the variable `file`.\n",
    "* Print the first three lines of the file to the shell by using `readline()` three times within the context manager.\n",
    "\n",
    "``` python\n",
    "\n",
    "# Read & print the first 3 lines\n",
    "with open('moby_dick.txt') as ____:\n",
    "    print(____)\n",
    "    print(____)\n",
    "    print(____)\n",
    "    \n",
    "    ```\n"
   ]
  },
  {
   "cell_type": "code",
   "execution_count": 2,
   "metadata": {},
   "outputs": [
    {
     "name": "stdout",
     "output_type": "stream",
     "text": [
      "CHAPTER 1. Loomings.\n",
      "\n",
      "\n",
      "\n",
      "Call me Ishmael. Some years ago--never mind how long precisely--having\n",
      "\n"
     ]
    }
   ],
   "source": [
    "# Read & print the first 3 lines\n",
    "with open('moby_dick.txt') as file:\n",
    "    print(file.readline())\n",
    "    print(file.readline())\n",
    "    print(file.readline())\n"
   ]
  },
  {
   "cell_type": "markdown",
   "metadata": {},
   "source": [
    "---\n",
    "\n",
    "### exercise(6) - Pop quiz: examples of flat files\n",
    "\n",
    "You're now well-versed in importing text files and you're about to become a wiz at importing flat files. But can you remember exactly what a flat file is? Test your knowledge by answering the following question: which of these file types below is NOT an example of a flat file?\n",
    "\n",
    "### Possible Answers\n",
    "\n",
    "1. .csv file.\n",
    "2. A tab-delimited .txt.\n",
    "3. A relational database (e.g. PostgreSQL).\n",
    "\n",
    "### answer: (1)\n"
   ]
  },
  {
   "cell_type": "markdown",
   "metadata": {},
   "source": [
    "---\n",
    "\n",
    "### exercise(7) - Pop quiz: what exactly are flat files?\n",
    "\n",
    "Which of the following statements about flat files is incorrect?\n",
    "\n",
    "### Possible Answers\n",
    "\n",
    "1. Flat files consist of rows and each row is called a record.\n",
    "\n",
    "2. Flat files consist of multiple tables with structured relationships between the tables.\n",
    "\n",
    "3. A record in a flat file is composed of fields or attributes, each of which contains at most one item of information.\n",
    "\n",
    "4. Flat files are pervasive in data science.\n",
    "\n",
    "### answer: (1)"
   ]
  },
  {
   "cell_type": "markdown",
   "metadata": {},
   "source": [
    "---\n",
    "\n",
    "### exercise(8) - Why we like flat files and the Zen of Python\n",
    "\n",
    "In PythonLand, there are currently hundreds of Python Enhancement Proposals, commonly referred to as PEPs. **PEP8**, for example, is a standard style guide for Python, written by our sensei Guido van Rossum himself. It is the basis for how we here at DataCamp ask our instructors to **style their code**. Another one of my favorites is **PEP20**, commonly called the Zen of Python. Its abstract is as follows:\n",
    "\n",
    "`Long time Pythoneer Tim Peters succinctly channels the BDFL's guiding principles for Python's design into 20 aphorisms, only 19 of which have been written down.`\n",
    "\n",
    "If you don't know what the acronym `BDFL` stands for, I suggest that you look **here**. You can print the Zen of Python in your shell by typing `import this` into it! You're going to do this now and the 5th aphorism (line) will say something of particular interest.\n",
    "\n",
    "The question you need to answer is: what is the 5th aphorism of the Zen of Python?\n",
    "\n",
    "### Instructions\n",
    "\n",
    "### Possible Answers\n",
    "\n",
    "1. Flat is better than nested.\n",
    "2. Flat files are essential for data science.\n",
    "3. The world is representable as a flat file.\n",
    "4. Flatness is in the eye of the beholder.\n",
    "\n",
    "### answer : (1)\n"
   ]
  },
  {
   "cell_type": "markdown",
   "metadata": {},
   "source": [
    "---\n",
    "\n",
    "### exercise(10) - Using NumPy to import flat files\n",
    "In this exercise, you're now going to load the MNIST digit recognition dataset using the numpy function `` loadtxt() `` and see just how easy it can be:\n",
    "\n",
    "You can find more information about the MNIST dataset [here](http://yann.lecun.com/exdb/mnist/) on the webpage of Yann LeCun, who is currently Director of AI Research at Facebook and Founding Director of the NYU Center for Data Science, among many other things.\n",
    "\n",
    "\n",
    "\n",
    "#### Instructions\n",
    "\n",
    "\n",
    "*   Fill in the arguments of `` np.loadtxt() `` by passing `` file `` and a comma `` ',' `` for the delimiter.\n",
    "*   Fill in the argument of `` print() `` to print the type of the object `` digits ``. Use the function `` type() ``.\n",
    "*   Execute the rest of the code to visualize one of the rows of the data.\n"
   ]
  },
  {
   "cell_type": "markdown",
   "metadata": {},
   "source": [
    "``` python\n",
    "\n",
    "#Import package\n",
    "import numpy as np\n",
    "\n",
    "#Assign filename to variable: file\n",
    "file = 'digits.csv'\n",
    "\n",
    "#Load file as array: digits\n",
    "digits = np.loadtxt(____, delimiter=____)\n",
    "\n",
    "#Print datatype of digits\n",
    "print(____)\n",
    "\n",
    "#Select and reshape a row\n",
    "im = digits[21, 1:]\n",
    "im_sq = np.reshape(im, (28, 28))\n",
    "\n",
    "#Plot reshaped data (matplotlib.pyplot already loaded as plt)\n",
    "plt.imshow(im_sq, cmap='Greys', interpolation='nearest')\n",
    "plt.show()\n",
    "\n",
    "```"
   ]
  },
  {
   "cell_type": "code",
   "execution_count": 31,
   "metadata": {},
   "outputs": [
    {
     "name": "stdout",
     "output_type": "stream",
     "text": [
      "<class 'numpy.ndarray'>\n"
     ]
    },
    {
     "data": {
      "image/png": "[encoded data removed]",
      "text/plain": [
       "<Figure size 432x288 with 1 Axes>"
      ]
     },
     "metadata": {
      "needs_background": "light"
     },
     "output_type": "display_data"
    }
   ],
   "source": [
    "# Import package\n",
    "import numpy as np\n",
    "\n",
    "# Assign filename to variable: file\n",
    "file = 'digits.csv'\n",
    "\n",
    "# Load file as array: digits\n",
    "digits = np.loadtxt(file, delimiter=',')\n",
    "\n",
    "# Print datatype of digits\n",
    "print(type(digits))\n",
    "\n",
    "# Select and reshape a row\n",
    "im = digits[21, 1:]\n",
    "im_sq = np.reshape(im, (28, 28))\n",
    "\n",
    "# Plot reshaped data (matplotlib.pyplot already loaded as plt)\n",
    "plt.imshow(im_sq, cmap='Greys', interpolation='nearest')\n",
    "plt.show()\n"
   ]
  },
  {
   "cell_type": "markdown",
   "metadata": {},
   "source": [
    "---\n",
    "\n",
    "### exercise(11) - Customizing your NumPy import\n",
    "What if there are rows, such as a header, that you don't want toimport? What if your file has a delimiter other thana comma? What if you only wish to import particular columns?\n",
    "There are a number of arguments that `` np.loadtxt() `` takesthat you'll find useful: `` delimiter `` changes the delimiterthat `` loadtxt() `` is expecting, for example, you can use `` ',' `` and `` '\\t' `` for comma-delimited andtab-delimited respectively; `` skiprows `` allows you to specify_how many rows_ (not indices) you wish to skip; `` usecols `` takes a _list_ ofthe indices of the columns you wish to keep.\n",
    "The file that you'll be importing, `` digits_header.txt ``,\n",
    "\n",
    "\n",
    "\n",
    "#### Instructions\n",
    "\n",
    "\n",
    "*   Complete the arguments of `` np.loadtxt() ``: the file you're importing is tab-delimited, you want to skip the first row and you only want to import the first and third columns.\n",
    "*   Complete the argument of the `` print() `` call in order to print the entire array that you just imported.\n",
    "\n"
   ]
  },
  {
   "cell_type": "markdown",
   "metadata": {},
   "source": [
    "``` python\n",
    "\n",
    "# Import numpy\n",
    "import numpy as np\n",
    "\n",
    "# Assign the filename: file\n",
    "file = 'digits_header.txt'\n",
    "\n",
    "# Load the data: data\n",
    "data = np.loadtxt(____, delimiter=____, skiprows=____, usecols=____)\n",
    "\n",
    "# Print data\n",
    "print(____)\n",
    "\n",
    "```"
   ]
  },
  {
   "cell_type": "code",
   "execution_count": 35,
   "metadata": {},
   "outputs": [
    {
     "ename": "IndexError",
     "evalue": "list index out of range",
     "output_type": "error",
     "traceback": [
      "\u001b[1;31m---------------------------------------------------------------------------\u001b[0m",
      "\u001b[1;31mIndexError\u001b[0m                                Traceback (most recent call last)",
      "\u001b[1;32m<ipython-input-35-06319ff0604a>\u001b[0m in \u001b[0;36m<module>\u001b[1;34m()\u001b[0m\n\u001b[0;32m      6\u001b[0m \u001b[1;33m\u001b[0m\u001b[0m\n\u001b[0;32m      7\u001b[0m \u001b[1;31m# Load the data: data\u001b[0m\u001b[1;33m\u001b[0m\u001b[1;33m\u001b[0m\u001b[0m\n\u001b[1;32m----> 8\u001b[1;33m \u001b[0mdata\u001b[0m \u001b[1;33m=\u001b[0m \u001b[0mnp\u001b[0m\u001b[1;33m.\u001b[0m\u001b[0mloadtxt\u001b[0m\u001b[1;33m(\u001b[0m\u001b[0mfile\u001b[0m\u001b[1;33m,\u001b[0m \u001b[0mdelimiter\u001b[0m\u001b[1;33m=\u001b[0m\u001b[1;34m'\\t'\u001b[0m\u001b[1;33m,\u001b[0m \u001b[0mskiprows\u001b[0m\u001b[1;33m=\u001b[0m\u001b[1;36m1\u001b[0m\u001b[1;33m,\u001b[0m \u001b[0musecols\u001b[0m\u001b[1;33m=\u001b[0m\u001b[1;33m[\u001b[0m\u001b[1;36m0\u001b[0m\u001b[1;33m,\u001b[0m\u001b[1;36m2\u001b[0m\u001b[1;33m]\u001b[0m\u001b[1;33m)\u001b[0m\u001b[1;33m\u001b[0m\u001b[0m\n\u001b[0m\u001b[0;32m      9\u001b[0m \u001b[1;33m\u001b[0m\u001b[0m\n\u001b[0;32m     10\u001b[0m \u001b[1;31m# Print data\u001b[0m\u001b[1;33m\u001b[0m\u001b[1;33m\u001b[0m\u001b[0m\n",
      "\u001b[1;32m~\\Anaconda3\\lib\\site-packages\\numpy\\lib\\npyio.py\u001b[0m in \u001b[0;36mloadtxt\u001b[1;34m(fname, dtype, comments, delimiter, converters, skiprows, usecols, unpack, ndmin, encoding, max_rows)\u001b[0m\n\u001b[0;32m   1132\u001b[0m         \u001b[1;31m# converting the data\u001b[0m\u001b[1;33m\u001b[0m\u001b[1;33m\u001b[0m\u001b[0m\n\u001b[0;32m   1133\u001b[0m         \u001b[0mX\u001b[0m \u001b[1;33m=\u001b[0m \u001b[1;32mNone\u001b[0m\u001b[1;33m\u001b[0m\u001b[0m\n\u001b[1;32m-> 1134\u001b[1;33m         \u001b[1;32mfor\u001b[0m \u001b[0mx\u001b[0m \u001b[1;32min\u001b[0m \u001b[0mread_data\u001b[0m\u001b[1;33m(\u001b[0m\u001b[0m_loadtxt_chunksize\u001b[0m\u001b[1;33m)\u001b[0m\u001b[1;33m:\u001b[0m\u001b[1;33m\u001b[0m\u001b[0m\n\u001b[0m\u001b[0;32m   1135\u001b[0m             \u001b[1;32mif\u001b[0m \u001b[0mX\u001b[0m \u001b[1;32mis\u001b[0m \u001b[1;32mNone\u001b[0m\u001b[1;33m:\u001b[0m\u001b[1;33m\u001b[0m\u001b[0m\n\u001b[0;32m   1136\u001b[0m                 \u001b[0mX\u001b[0m \u001b[1;33m=\u001b[0m \u001b[0mnp\u001b[0m\u001b[1;33m.\u001b[0m\u001b[0marray\u001b[0m\u001b[1;33m(\u001b[0m\u001b[0mx\u001b[0m\u001b[1;33m,\u001b[0m \u001b[0mdtype\u001b[0m\u001b[1;33m)\u001b[0m\u001b[1;33m\u001b[0m\u001b[0m\n",
      "\u001b[1;32m~\\Anaconda3\\lib\\site-packages\\numpy\\lib\\npyio.py\u001b[0m in \u001b[0;36mread_data\u001b[1;34m(chunk_size)\u001b[0m\n\u001b[0;32m   1052\u001b[0m                 \u001b[1;32mcontinue\u001b[0m\u001b[1;33m\u001b[0m\u001b[0m\n\u001b[0;32m   1053\u001b[0m             \u001b[1;32mif\u001b[0m \u001b[0musecols\u001b[0m\u001b[1;33m:\u001b[0m\u001b[1;33m\u001b[0m\u001b[0m\n\u001b[1;32m-> 1054\u001b[1;33m                 \u001b[0mvals\u001b[0m \u001b[1;33m=\u001b[0m \u001b[1;33m[\u001b[0m\u001b[0mvals\u001b[0m\u001b[1;33m[\u001b[0m\u001b[0mj\u001b[0m\u001b[1;33m]\u001b[0m \u001b[1;32mfor\u001b[0m \u001b[0mj\u001b[0m \u001b[1;32min\u001b[0m \u001b[0musecols\u001b[0m\u001b[1;33m]\u001b[0m\u001b[1;33m\u001b[0m\u001b[0m\n\u001b[0m\u001b[0;32m   1055\u001b[0m             \u001b[1;32mif\u001b[0m \u001b[0mlen\u001b[0m\u001b[1;33m(\u001b[0m\u001b[0mvals\u001b[0m\u001b[1;33m)\u001b[0m \u001b[1;33m!=\u001b[0m \u001b[0mN\u001b[0m\u001b[1;33m:\u001b[0m\u001b[1;33m\u001b[0m\u001b[0m\n\u001b[0;32m   1056\u001b[0m                 \u001b[0mline_num\u001b[0m \u001b[1;33m=\u001b[0m \u001b[0mi\u001b[0m \u001b[1;33m+\u001b[0m \u001b[0mskiprows\u001b[0m \u001b[1;33m+\u001b[0m \u001b[1;36m1\u001b[0m\u001b[1;33m\u001b[0m\u001b[0m\n",
      "\u001b[1;32m~\\Anaconda3\\lib\\site-packages\\numpy\\lib\\npyio.py\u001b[0m in \u001b[0;36m<listcomp>\u001b[1;34m(.0)\u001b[0m\n\u001b[0;32m   1052\u001b[0m                 \u001b[1;32mcontinue\u001b[0m\u001b[1;33m\u001b[0m\u001b[0m\n\u001b[0;32m   1053\u001b[0m             \u001b[1;32mif\u001b[0m \u001b[0musecols\u001b[0m\u001b[1;33m:\u001b[0m\u001b[1;33m\u001b[0m\u001b[0m\n\u001b[1;32m-> 1054\u001b[1;33m                 \u001b[0mvals\u001b[0m \u001b[1;33m=\u001b[0m \u001b[1;33m[\u001b[0m\u001b[0mvals\u001b[0m\u001b[1;33m[\u001b[0m\u001b[0mj\u001b[0m\u001b[1;33m]\u001b[0m \u001b[1;32mfor\u001b[0m \u001b[0mj\u001b[0m \u001b[1;32min\u001b[0m \u001b[0musecols\u001b[0m\u001b[1;33m]\u001b[0m\u001b[1;33m\u001b[0m\u001b[0m\n\u001b[0m\u001b[0;32m   1055\u001b[0m             \u001b[1;32mif\u001b[0m \u001b[0mlen\u001b[0m\u001b[1;33m(\u001b[0m\u001b[0mvals\u001b[0m\u001b[1;33m)\u001b[0m \u001b[1;33m!=\u001b[0m \u001b[0mN\u001b[0m\u001b[1;33m:\u001b[0m\u001b[1;33m\u001b[0m\u001b[0m\n\u001b[0;32m   1056\u001b[0m                 \u001b[0mline_num\u001b[0m \u001b[1;33m=\u001b[0m \u001b[0mi\u001b[0m \u001b[1;33m+\u001b[0m \u001b[0mskiprows\u001b[0m \u001b[1;33m+\u001b[0m \u001b[1;36m1\u001b[0m\u001b[1;33m\u001b[0m\u001b[0m\n",
      "\u001b[1;31mIndexError\u001b[0m: list index out of range"
     ]
    }
   ],
   "source": [
    "# Import numpy\n",
    "import numpy as np\n",
    "\n",
    "# Assign the filename: file\n",
    "file = 'digits_header.txt'\n",
    "\n",
    "# Load the data: data\n",
    "data = np.loadtxt(file, delimiter='\\t', skiprows=1, usecols=[0,2])\n",
    "\n",
    "# Print data\n",
    "print(data)\n"
   ]
  },
  {
   "cell_type": "markdown",
   "metadata": {},
   "source": [
    "---\n",
    "\n",
    "###  exercise(12) - Importing different datatypes\n",
    "\n",
    "The file `` seaslug.txt ``\n",
    "These data consists of percentage ofsea slug larvae that had metamorphosed in a given time period.Read more [here](http://www.stat.ucla.edu/projects/datasets/seaslug-explanation.html).\n",
    "Due to the header, if you tried to import it as-is using`` np.loadtxt() ``, Python would throw you a `` ValueError `` and tellyou that it `` could not convert string to float ``. There aretwo ways to deal with this: firstly, you can set the data typeargument `` dtype `` equal to `` str `` (for string).\n",
    "Alternatively, you can skip the first row as we have seen before,using the `` skiprows `` argument.\n",
    "\n",
    "\n",
    "\n",
    "#### Instructions\n",
    "\n",
    "\n",
    "*   Complete the first call to `` np.loadtxt() `` by passing `` file `` as the first argument.\n",
    "*   Execute `` print(data[0]) `` to print the first element of `` data ``.\n",
    "*   Complete the second call to `` np.loadtxt() ``. The file you're importing is tab-delimited, the datatype is `` float ``, and you want to skip the first row.\n",
    "*   Print the 10th element of `` data_float `` by completing the `` print() `` command. Be guided by the previous `` print() `` call.\n",
    "*   Execute the rest of the code to visualize the data.\n",
    "\n"
   ]
  },
  {
   "cell_type": "markdown",
   "metadata": {},
   "source": [
    "``` python\n",
    "\n",
    "# Assign filename: file\n",
    "file = 'seaslug.txt'\n",
    "\n",
    "# Import file: data\n",
    "data = np.loadtxt(____, delimiter='\\t', dtype=str)\n",
    "\n",
    "# Print the first element of data\n",
    "print(data[0])\n",
    "\n",
    "# Import data as floats and skip the first row: data_float\n",
    "data_float = np.loadtxt(____, delimiter=____, dtype=____, skiprows=____)\n",
    "\n",
    "# Print the 10th element of data_float\n",
    "print(____)\n",
    "\n",
    "# Plot a scatterplot of the data\n",
    "plt.scatter(data_float[:, 0], data_float[:, 1])\n",
    "plt.xlabel('time (min.)')\n",
    "plt.ylabel('percentage of larvae')\n",
    "plt.show()\n",
    "\n",
    "```"
   ]
  },
  {
   "cell_type": "code",
   "execution_count": 36,
   "metadata": {},
   "outputs": [
    {
     "name": "stdout",
     "output_type": "stream",
     "text": [
      "['Time' 'Percent']\n",
      "[0.    0.357]\n"
     ]
    },
    {
     "data": {
      "image/png": "[encoded data removed]",
      "text/plain": [
       "<Figure size 432x288 with 1 Axes>"
      ]
     },
     "metadata": {
      "needs_background": "light"
     },
     "output_type": "display_data"
    }
   ],
   "source": [
    "import numpy as np\n",
    "import matplotlib.pyplot as plt\n",
    "\n",
    "# Assign filename: file\n",
    "file = 'seaslug.txt'\n",
    "\n",
    "# Import file: data\n",
    "data = np.loadtxt(file, delimiter='\\t', dtype=str)\n",
    "\n",
    "# Print the first element of data\n",
    "print(data[0])\n",
    "\n",
    "# Import data as floats and skip the first row: data_float\n",
    "data_float = np.loadtxt(file, delimiter='\\t', dtype=float, skiprows=1)\n",
    "\n",
    "# Print the 10th element of data_float\n",
    "print(data_float[9])\n",
    "\n",
    "# Plot a scatterplot of the data\n",
    "plt.scatter(data_float[:, 0], data_float[:, 1])\n",
    "plt.xlabel('time (min.)')\n",
    "plt.ylabel('percentage of larvae')\n",
    "plt.show()\n"
   ]
  },
  {
   "cell_type": "markdown",
   "metadata": {},
   "source": [
    "---\n",
    "\n",
    "### exercise(13) - Working with mixed datatypes (1)\n",
    "\n",
    "Much of the time you will need to import datasets which have different datatypes in different columns; one column may contain strings and another floats, for example. The function `np.loadtxt()` will freak at this. There is another function, `np.genfromtxt()`, which can handle such structures. If we pass `dtype=None` to it, it will figure out what types each column should be.\n",
    "\n",
    "Import `'titanic.csv'` using the function `np.genfromtxt()` as follows:\n",
    "\n",
    "`data = np.genfromtxt('titanic.csv', delimiter=',', names=True, dtype=None)`\n",
    "\n",
    "Here, the first argument is the filename, the second specifies the delimiter `,` and the third argument `names` tells us there is a header. Because the `data` are of different types, data is an object called a **structured array**. Because numpy arrays have to contain elements that are all the same type, the structured array solves this by being a 1D array, where each element of the array is a row of the flat file imported. You can test this by checking out the array's shape in the shell by executing `np.shape(data)`.\n",
    "\n",
    "Accessing rows and columns of structured arrays is super-intuitive: to get the ith row, merely execute `data[i]` and to get the column with name `'Fare'`, execute `data['Fare']`.\n",
    "\n",
    "Print the entire column with name `Survived` to the shell. What are the last 4 values of this column?\n",
    "\n",
    "### Possible Answers\n",
    "\n",
    "1. 1,0,0,1.\n",
    "2. 1,2,0,0.\n",
    "3. 1,0,1,0.\n",
    "4. 0,1,1,1.\n",
    "\n",
    "### answer : (3)"
   ]
  },
  {
   "cell_type": "markdown",
   "metadata": {},
   "source": [
    "### erercise(14) - Working with mixed datatypes (2)\n",
    "You have just used `` np.genfromtxt() `` to import data containingmixed datatypes. There is also another function `` np.recfromcsv() `` that behavessimilarly to `` np.genfromtxt() ``, except that its default`` dtype `` is `` None ``. In this exercise, you'll practice using this toachieve the same result.\n",
    "\n",
    "\n",
    "\n",
    "#### Instructions\n",
    "\n",
    "\n",
    "*   Import `` titanic.csv `` using the function `` np.recfromcsv() `` and assign it to the variable, `` d ``. You'll only need to pass `` file `` to it because it has the defaults `` delimiter=',' `` and `` names=True `` in addition to `` dtype=None ``!\n",
    "*   Run the remaining code to print the first three entries of the resulting array `` d ``.\n"
   ]
  },
  {
   "cell_type": "markdown",
   "metadata": {},
   "source": [
    "``` python\n",
    "\n",
    "# Assign the filename: file\n",
    "file = 'titanic.csv'\n",
    "\n",
    "# Import file using np.recfromcsv: d\n",
    "\n",
    "\n",
    "# Print out first three entries of d\n",
    "print(d[:3])\n",
    "\n",
    "```"
   ]
  },
  {
   "cell_type": "code",
   "execution_count": 8,
   "metadata": {},
   "outputs": [
    {
     "name": "stdout",
     "output_type": "stream",
     "text": [
      "[(1, 0, 3, b'male', 22., 1, 0, b'A/5 21171',  7.25  , b'', b'S')\n",
      " (2, 1, 1, b'female', 38., 1, 0, b'PC 17599', 71.2833, b'C85', b'C')\n",
      " (3, 1, 3, b'female', 26., 0, 0, b'STON/O2. 3101282',  7.925 , b'', b'S')]\n"
     ]
    },
    {
     "name": "stderr",
     "output_type": "stream",
     "text": [
      "C:\\Users\\Srikanth\\Anaconda3\\lib\\site-packages\\numpy\\lib\\npyio.py:2315: VisibleDeprecationWarning: Reading unicode strings without specifying the encoding argument is deprecated. Set the encoding, use None for the system default.\n",
      "  output = genfromtxt(fname, **kwargs)\n"
     ]
    }
   ],
   "source": [
    "import numpy as np\n",
    "\n",
    "# Assign the filename: file\n",
    "file = 'titanic.csv'\n",
    "\n",
    "# Import file using np.recfromcsv: d\n",
    "d= np.recfromcsv(file)\n",
    "\n",
    "# Print out first three entries of d\n",
    "print(d[:3])\n"
   ]
  },
  {
   "cell_type": "markdown",
   "metadata": {},
   "source": [
    "---\n",
    "\n",
    "### exercise(16) - Using pandas to import flat files as DataFrames (1)\n",
    "\n",
    "In the last exercise, you were able to import flat filescontaining columns with different datatypes as `` numpy `` arrays. However,the `` DataFrame `` object in pandas isa more appropriate structure in which to store such data and,thankfully, we can easily import files of mixed data types as DataFramesusing the pandas functions `` read_csv() `` and `` read_table() ``.\n",
    "\n",
    "\n",
    "\n",
    "#### Instructions\n",
    "\n",
    "\n",
    "*   Import the `` pandas `` package using the alias `` pd ``.\n",
    "*   Read `` titanic.csv `` into a DataFrame called `` df ``. The file name is already stored in the `` file `` object.\n",
    "*   In a `` print() `` call, view the head of the DataFrame.\n",
    "\n"
   ]
  },
  {
   "cell_type": "markdown",
   "metadata": {},
   "source": [
    "```python\n",
    "# Import pandas as pd\n",
    "\n",
    "\n",
    "# Assign the filename: file\n",
    "file = 'titanic.csv'\n",
    "\n",
    "# Read the file into a DataFrame: df\n",
    "df = pd.read_csv(____)\n",
    "\n",
    "# View the head of the DataFrame\n",
    "\n",
    "```"
   ]
  },
  {
   "cell_type": "code",
   "execution_count": 9,
   "metadata": {},
   "outputs": [
    {
     "name": "stdout",
     "output_type": "stream",
     "text": [
      "   PassengerId  Survived  Pclass     Sex   Age  SibSp  Parch  \\\n",
      "0            1         0       3    male  22.0      1      0   \n",
      "1            2         1       1  female  38.0      1      0   \n",
      "2            3         1       3  female  26.0      0      0   \n",
      "3            4         1       1  female  35.0      1      0   \n",
      "4            5         0       3    male  35.0      0      0   \n",
      "\n",
      "             Ticket     Fare Cabin Embarked  \n",
      "0         A/5 21171   7.2500   NaN        S  \n",
      "1          PC 17599  71.2833   C85        C  \n",
      "2  STON/O2. 3101282   7.9250   NaN        S  \n",
      "3            113803  53.1000  C123        S  \n",
      "4            373450   8.0500   NaN        S  \n"
     ]
    }
   ],
   "source": [
    "# Import pandas as pd\n",
    "import pandas as pd\n",
    "\n",
    "# Assign the filename: file\n",
    "file = 'titanic.csv'\n",
    "\n",
    "# Read the file into a DataFrame: df\n",
    "df = pd.read_csv(file)\n",
    "\n",
    "# View the head of the DataFrame\n",
    "print(df.head())"
   ]
  },
  {
   "cell_type": "markdown",
   "metadata": {},
   "source": [
    "---\n",
    "\n",
    "### exercise(17) - Using pandas to import flat files as DataFrames (2)\n",
    "In the last exercise, you were able to import flat filesinto a `` pandas `` DataFrame. As a bonus, it is then straightforwardto retrieve the corresponding`` numpy `` array using the attribute `` values ``. You'll now have a chanceto do this using the MNIST dataset, which is available as `` digits.csv ``.\n",
    "\n",
    "\n",
    "\n",
    "#### Instructions\n",
    "\n",
    "\n",
    "*   Import the first 5 rows of the file into a DataFrame using the function `` pd.read_csv() `` and assign the result to `` data ``. You'll need to use the arguments `` nrows `` and `` header `` (there is no header in this file).\n",
    "*   Build a `` numpy `` array from the resulting DataFrame in `` data `` and assign to `` data_array ``.\n",
    "*   Execute `` print(type(data_array)) `` to print the datatype of `` data_array ``.\n"
   ]
  },
  {
   "cell_type": "markdown",
   "metadata": {},
   "source": [
    "``` python\n",
    "# Import pandas as pd\n",
    "\n",
    "\n",
    "# Assign the filename: file\n",
    "file = 'titanic.csv'\n",
    "\n",
    "# Read the file into a DataFrame: df\n",
    "df = pd.read_csv(____)\n",
    "\n",
    "# View the head of the DataFrame\n",
    "\n",
    "```"
   ]
  },
  {
   "cell_type": "code",
   "execution_count": 10,
   "metadata": {},
   "outputs": [
    {
     "name": "stdout",
     "output_type": "stream",
     "text": [
      "   PassengerId  Survived  Pclass     Sex   Age  SibSp  Parch  \\\n",
      "0            1         0       3    male  22.0      1      0   \n",
      "1            2         1       1  female  38.0      1      0   \n",
      "2            3         1       3  female  26.0      0      0   \n",
      "3            4         1       1  female  35.0      1      0   \n",
      "4            5         0       3    male  35.0      0      0   \n",
      "\n",
      "             Ticket     Fare Cabin Embarked  \n",
      "0         A/5 21171   7.2500   NaN        S  \n",
      "1          PC 17599  71.2833   C85        C  \n",
      "2  STON/O2. 3101282   7.9250   NaN        S  \n",
      "3            113803  53.1000  C123        S  \n",
      "4            373450   8.0500   NaN        S  \n"
     ]
    }
   ],
   "source": [
    "# Import pandas as pd\n",
    "import pandas as pd\n",
    "\n",
    "# Assign the filename: file\n",
    "file = 'titanic.csv'\n",
    "\n",
    "# Read the file into a DataFrame: df\n",
    "df = pd.read_csv(file)\n",
    "\n",
    "# View the head of the DataFrame\n",
    "print(df.head())\n"
   ]
  },
  {
   "cell_type": "markdown",
   "metadata": {},
   "source": [
    "---\n",
    "\n",
    "### exercise(18) - Customizing your pandas import\n",
    "\n",
    "The `` pandas `` package is also great at dealing with many of the issues you willencounter when importing data as a data scientist, such as commentsoccurring in flat files, empty lines and missing values. Note that missing values are also commonly referred to as `` NA `` or `` NaN ``. To wrap up this chapter, you're now going to import a slightly corruptedcopy of the Titanic dataset `` titanic_corrupt.txt ``, which\n",
    "\n",
    "\n",
    "\n",
    "#### Instructions\n",
    "\n",
    "\n",
    "*   Complete the `` sep `` (the `` pandas `` version of `` delim ``), `` comment `` and `` na_values `` arguments of `` pd.read_csv() ``. `` comment `` takes characters that comments occur after in the file, which in this case is `` '#' ``. `` na_values `` takes a list of strings to recognize as `` NA ``/`` NaN ``, in this case the string `` 'Nothing' ``.\n",
    "*   Execute the rest of the code to print the head of the resulting DataFrame and plot the histogram of the `` 'Age' `` of passengers aboard the Titanic.\n"
   ]
  },
  {
   "cell_type": "markdown",
   "metadata": {},
   "source": [
    "```python\n",
    "# Import matplotlib.pyplot as plt\n",
    "import matplotlib.pyplot as plt\n",
    "\n",
    "# Assign filename: file\n",
    "file = 'titanic_corrupt.txt'\n",
    "\n",
    "# Import file: data\n",
    "data = pd.read_csv(file, sep=____, comment=____, na_values=____)\n",
    "\n",
    "# Print the head of the DataFrame\n",
    "print(data.head())\n",
    "\n",
    "# Plot 'Age' variable in a histogram\n",
    "pd.DataFrame.hist(data[['Age']])\n",
    "plt.xlabel('Age (years)')\n",
    "plt.ylabel('count')\n",
    "plt.show()```"
   ]
  },
  {
   "cell_type": "code",
   "execution_count": 11,
   "metadata": {},
   "outputs": [
    {
     "name": "stdout",
     "output_type": "stream",
     "text": [
      "   PassengerId  Survived  Pclass     Sex   Age  SibSp  Parch  \\\n",
      "0            1         0       3    male  22.0      1      0   \n",
      "1            2         1       1  female  38.0      1      0   \n",
      "2            3         1       3  female  26.0      0      0   \n",
      "3            4         1       1  female  35.0      1      0   \n",
      "4            5         0       3    male  35.0      0      0   \n",
      "\n",
      "             Ticket     Fare Cabin    Embarked  \n",
      "0         A/5 21171   7.2500   NaN  S #dfafdad  \n",
      "1       PC 17599#to  71.2833   C85           C  \n",
      "2  STON/O2. 3101282   7.9250   NaN           S  \n",
      "3            113803  53.1000  C123           S  \n",
      "4            373450   8.0500   NaN           S  \n"
     ]
    },
    {
     "data": {
      "image/png": "[encoded data removed]",
      "text/plain": [
       "<Figure size 432x288 with 1 Axes>"
      ]
     },
     "metadata": {
      "needs_background": "light"
     },
     "output_type": "display_data"
    }
   ],
   "source": [
    "# Import matplotlib.pyplot as plt\n",
    "import matplotlib.pyplot as plt\n",
    "\n",
    "# Assign filename: file\n",
    "file = 'titanic_corrupt.txt'\n",
    "\n",
    "# Import file: data\n",
    "data = pd.read_csv(file, sep='\\t', comment='#', na_values='Nothing')\n",
    "\n",
    "# Print the head of the DataFrame\n",
    "print(data.head())\n",
    "\n",
    "# Plot 'Age' variable in a histogram\n",
    "pd.DataFrame.hist(data[['Age']])\n",
    "plt.xlabel('Age (years)')\n",
    "plt.ylabel('count')\n",
    "plt.show()\n"
   ]
  },
  {
   "cell_type": "markdown",
   "metadata": {},
   "source": [
    "---\n",
    "\n",
    "### chapter(2) - Importing data from other file types\n",
    "\n",
    "### exercise(2) - Not so flat any more\n",
    "\n",
    "In Chapter 1, you learned how to use the IPython magic command `! ls` to explore your current working directory. You can also do this natively in Python using the **library os**, which consists of miscellaneous operating system interfaces.\n",
    "\n",
    "The first line of the following code imports the library `os`, the second line stores the name of the current directory in a string called `wd` and the third outputs the contents of the directory in a list to the shell.\n",
    "\n",
    "`import os\n",
    "wd = os.getcwd()\n",
    "os.listdir(wd)`\n",
    "\n",
    "Run this code in the IPython shell and answer the following questions. Ignore the files that begin with `.`.\n",
    "\n",
    "Check out the contents of your current directory and answer the following questions: (1) which file is in your directory and NOT an example of a flat file; (2) why is it not a flat file?\n",
    "\n",
    "\n",
    "### Possible Answers\n",
    "\n",
    "1. `database.db` is not a flat file because relational databases contain structured relationships and flat files do not.\n",
    "2. `battledeath.xlsx` is not a flat because it is a spreadsheet consisting of many sheets, not a single table.\n",
    "3. `titanic.txt` is not a flat file because it is a `.txt`, not a `.csv`.\n",
    "\n",
    "### answer : (2)"
   ]
  },
  {
   "cell_type": "markdown",
   "metadata": {},
   "source": [
    "---\n",
    "\n",
    "### exercise(3) -  Loading a pickled file\n",
    "\n",
    "\n",
    "There are a number of datatypes that cannot be saved easilyto flat files, such as lists and dictionaries. If you want yourfiles to be human readable, you may want to save them as text filesin a clever manner. JSONs, which you will see in a later chapter, areappropriate for Python dictionaries.\n",
    "However, if you merely want tobe able to import them into Python, you can [serialize](https://en.wikipedia.org/wiki/Serialization)them. All this means is converting the object into a sequence of bytes,or a bytestream.\n",
    "In this exercise, you'll import the `` pickle `` package, open a previouslypickled data structure from a file and load it.\n",
    "\n",
    "\n",
    "\n",
    "#### Instructions\n",
    "\n",
    "\n",
    "*   Import the `` pickle `` package.\n",
    "*   Complete the second argument of `` open() `` so that it is read onlyfor a binary file. This argument will be a string of two letters,one signifying 'read only', the other 'binary'.\n",
    "*   Pass the correct argument to `` pickle.load() ``; it should use the variablethat is bound to `` open ``.\n",
    "*   Print the data, `` d ``.\n",
    "*   Print the datatype of `` d ``; take your mind back to your previous use of the function `` type() ``.\n",
    "\n"
   ]
  },
  {
   "cell_type": "markdown",
   "metadata": {},
   "source": [
    "```python\n",
    "# Import pickle package\n",
    "\n",
    "\n",
    "# Open pickle file and load data: d\n",
    "with open('data.pkl', ____) as file:\n",
    "    d = pickle.load(____)\n",
    "\n",
    "# Print d\n",
    "print(____)\n",
    "\n",
    "# Print datatype of d\n",
    "print(____)```"
   ]
  },
  {
   "cell_type": "code",
   "execution_count": 37,
   "metadata": {},
   "outputs": [
    {
     "ename": "UnpicklingError",
     "evalue": "invalid load key, '\\x27'.",
     "output_type": "error",
     "traceback": [
      "\u001b[1;31m---------------------------------------------------------------------------\u001b[0m",
      "\u001b[1;31mUnpicklingError\u001b[0m                           Traceback (most recent call last)",
      "\u001b[1;32m<ipython-input-37-022fcc382598>\u001b[0m in \u001b[0;36m<module>\u001b[1;34m()\u001b[0m\n\u001b[0;32m      4\u001b[0m \u001b[1;31m# Open pickle file and load data: d\u001b[0m\u001b[1;33m\u001b[0m\u001b[1;33m\u001b[0m\u001b[0m\n\u001b[0;32m      5\u001b[0m \u001b[1;32mwith\u001b[0m \u001b[0mopen\u001b[0m\u001b[1;33m(\u001b[0m\u001b[1;34m'data.pkl'\u001b[0m\u001b[1;33m,\u001b[0m\u001b[1;34m'rb'\u001b[0m \u001b[1;33m)\u001b[0m \u001b[1;32mas\u001b[0m \u001b[0mfile\u001b[0m\u001b[1;33m:\u001b[0m\u001b[1;33m\u001b[0m\u001b[0m\n\u001b[1;32m----> 6\u001b[1;33m     \u001b[0md\u001b[0m \u001b[1;33m=\u001b[0m \u001b[0mpickle\u001b[0m\u001b[1;33m.\u001b[0m\u001b[0mload\u001b[0m\u001b[1;33m(\u001b[0m\u001b[0mfile\u001b[0m\u001b[1;33m)\u001b[0m\u001b[1;33m\u001b[0m\u001b[0m\n\u001b[0m\u001b[0;32m      7\u001b[0m \u001b[1;33m\u001b[0m\u001b[0m\n\u001b[0;32m      8\u001b[0m \u001b[1;31m# Print d\u001b[0m\u001b[1;33m\u001b[0m\u001b[1;33m\u001b[0m\u001b[0m\n",
      "\u001b[1;31mUnpicklingError\u001b[0m: invalid load key, '\\x27'."
     ]
    }
   ],
   "source": [
    "# Import pickle package\n",
    "import pickle\n",
    "\n",
    "# Open pickle file and load data: d\n",
    "with open('data.pkl','rb' ) as file:\n",
    "    d = pickle.load(file)\n",
    "\n",
    "# Print d\n",
    "print(d)\n",
    "\n",
    "# Print datatype of d\n",
    "print(type(d))\n"
   ]
  },
  {
   "cell_type": "markdown",
   "metadata": {},
   "source": [
    "---\n",
    "\n",
    "### exerciuse(4) - Listing sheets in Excel files\n",
    "\n",
    "Whether you like it or not, any working data scientist will needto deal with Excel spreadsheets at some point in time. You won'talways want to do so in Excel, however!\n",
    "Here, you'll learn how to use `` pandas `` to import Excel spreadsheetsand how to list the names of the sheets in any loaded .xlsx file.\n",
    "Recall from the video that, given an Excel file imported into a variable`` spreadsheet ``, you can retrieve a list of the sheet names using the attribute`` spreadsheet.sheet_names ``.\n",
    "Specifically, you'll be loading and checking out the spreadsheet`` 'battledeath.xlsx' ``, modified from the Peace Research Institute Oslo's (PRIO)[dataset](https://www.prio.org/Data/Armed-Conflict/Battle-Deaths/The-Battle-Deaths-Dataset-version-30/).This data contains age-adjusted mortality rates due to war in various countries over several years.\n",
    "\n",
    "\n",
    "\n",
    "#### Instructions\n",
    "\n",
    "\n",
    "*   Assign the filename to the variable `` file ``.\n",
    "*   Pass the correct argument to `` pd.ExcelFile() `` to load the file using pandas.\n",
    "*   Print the sheetnames of the Excel spreadsheet by passing the necessary argument to the `` print() `` function.\n",
    "\n"
   ]
  },
  {
   "cell_type": "markdown",
   "metadata": {},
   "source": [
    "```python\n",
    "# Import pandas\n",
    "import pandas as pd\n",
    "\n",
    "# Assign spreadsheet filename: file\n",
    "file = ____\n",
    "\n",
    "# Load spreadsheet: xl\n",
    "xl = pd.ExcelFile(____)\n",
    "\n",
    "# Print sheet names\n",
    "print(____)```"
   ]
  },
  {
   "cell_type": "code",
   "execution_count": 3,
   "metadata": {},
   "outputs": [
    {
     "name": "stdout",
     "output_type": "stream",
     "text": [
      "['2002', '2004']\n"
     ]
    }
   ],
   "source": [
    "# Import pandas\n",
    "import pandas as pd\n",
    "\n",
    "# Assign spreadsheet filename: file\n",
    "file = 'battledeath.xlsx'\n",
    "\n",
    "# Load spreadsheet: xl\n",
    "xl = pd.ExcelFile(file)\n",
    "\n",
    "# Print sheet names\n",
    "print(xl.sheet_names)\n"
   ]
  },
  {
   "cell_type": "markdown",
   "metadata": {},
   "source": [
    "---\n",
    "\n",
    "### exercise(5) - Importing sheets from Excel files\n",
    "\n",
    "In the previous exercises, you saw that the Excel file contains two sheets, `` '2002' `` and `` '2004' ``.The next step is to import these.\n",
    "In this exercise, you'll learn how to import any givensheet of your loaded .xlsx file as a DataFrame. You'llbe able to do so by specifying either the sheet's name or itsindex.\n",
    "The spreadsheet `` 'battledeath.xlsx' `` is already loaded as`` xl ``.\n",
    "\n",
    "\n",
    "\n",
    "#### Instructions\n",
    "\n",
    "\n",
    "*   Load the sheet `` '2004' `` into the DataFrame `` df1 `` using its name as a string.\n",
    "*   Print the head of `` df1 `` to the shell.\n",
    "*   Load the sheet `` 2002 `` into the DataFrame `` df2 `` using its index (`` 0 ``).\n",
    "*   Print the head of `` df2 `` to the shell."
   ]
  },
  {
   "cell_type": "markdown",
   "metadata": {},
   "source": [
    "```python\n",
    "# Load a sheet into a DataFrame by name: df1\n",
    "df1 = xl.parse(____)\n",
    "\n",
    "# Print the head of the DataFrame df1\n",
    "print(____)\n",
    "\n",
    "# Load a sheet into a DataFrame by index: df2\n",
    "\n",
    "\n",
    "# Print the head of the DataFrame df2\n",
    "print(____)```"
   ]
  },
  {
   "cell_type": "code",
   "execution_count": 38,
   "metadata": {},
   "outputs": [
    {
     "name": "stdout",
     "output_type": "stream",
     "text": [
      "  War(country)      2004\n",
      "0  Afghanistan  9.451028\n",
      "1      Albania  0.130354\n",
      "2      Algeria  3.407277\n",
      "3      Andorra  0.000000\n",
      "4       Angola  2.597931\n",
      "  War, age-adjusted mortality due to       2002\n",
      "0                        Afghanistan  36.083990\n",
      "1                            Albania   0.128908\n",
      "2                            Algeria  18.314120\n",
      "3                            Andorra   0.000000\n",
      "4                             Angola  18.964560\n"
     ]
    }
   ],
   "source": [
    "xl = pd.ExcelFile('battledeath.xlsx')\n",
    "\n",
    "# Load a sheet into a DataFrame by name: df1\n",
    "df1 = xl.parse('2004')\n",
    "\n",
    "# Print the head of the DataFrame df1\n",
    "print(df1.head())\n",
    "\n",
    "# Load a sheet into a DataFrame by index: df2\n",
    "df2=xl.parse(0)\n",
    "\n",
    "# Print the head of the DataFrame df2\n",
    "print(df2.head())"
   ]
  },
  {
   "cell_type": "markdown",
   "metadata": {},
   "source": [
    "---\n",
    "\n",
    "### exercise(6) - Customizing your spreadsheet import\n",
    "\n",
    "Here, you'll parse your spreadsheets and use additionalarguments to skip rows, rename columns and select onlyparticular columns.\n",
    "The spreadsheet `` 'battledeath.xlsx' `` is already loaded as`` xl ``.\n",
    "As before, you'll use the method `` parse() ``. This time, however,you'll add the additional arguments `` skiprows ``, `` names `` and`` parse_cols ``. These skip rows, name the columns and designatewhich columns to parse, respectively. All these arguments canbe assigned to lists containing the specific row numbers, stringsand column numbers, as appropriate.\n",
    "\n",
    "\n",
    "\n",
    "#### Instructions\n",
    "\n",
    "\n",
    "*   Parse the first sheet by index. In doing so, skip the first row of data and name the columns `` 'Country' `` and `` 'AAM due to War (2002)' `` using the argument `` names ``. The values passed to `` skiprows `` and `` names `` all need to be of type `` list ``.\n",
    "*   Parse the second sheet by index. In doing so, parse only the first column with the `` parse_cols `` parameter, skip the first row and rename the column `` 'Country' ``. The argument passed to `` parse_cols `` also needs to be of type `` list ``.\n",
    "\n"
   ]
  },
  {
   "cell_type": "markdown",
   "metadata": {},
   "source": [
    "```python\n",
    "# Parse the first sheet and rename the columns: df1\n",
    "df1 = xl.parse(____, skiprows=____, names=____)\n",
    "\n",
    "# Print the head of the DataFrame df1\n",
    "print(df1.head())\n",
    "\n",
    "# Parse the first column of the second sheet and rename the column: df2\n",
    "df2 = xl.parse(____, parse_cols=____, skiprows=____, names=____)\n",
    "\n",
    "# Print the head of the DataFrame df2\n",
    "print(df2.head())```\n"
   ]
  },
  {
   "cell_type": "code",
   "execution_count": 5,
   "metadata": {},
   "outputs": [
    {
     "name": "stdout",
     "output_type": "stream",
     "text": [
      "               Country  AAM due to War (2002)\n",
      "0              Albania               0.128908\n",
      "1              Algeria              18.314120\n",
      "2              Andorra               0.000000\n",
      "3               Angola              18.964560\n",
      "4  Antigua and Barbuda               0.000000\n"
     ]
    },
    {
     "ename": "ValueError",
     "evalue": "Length mismatch: Expected axis has 2 elements, new values have 1 elements",
     "output_type": "error",
     "traceback": [
      "\u001b[1;31m---------------------------------------------------------------------------\u001b[0m",
      "\u001b[1;31mValueError\u001b[0m                                Traceback (most recent call last)",
      "\u001b[1;32m<ipython-input-5-2fb1fef67c70>\u001b[0m in \u001b[0;36m<module>\u001b[1;34m\u001b[0m\n\u001b[0;32m      8\u001b[0m \u001b[1;33m\u001b[0m\u001b[0m\n\u001b[0;32m      9\u001b[0m \u001b[1;31m# Parse the first column of the second sheet and rename the column: df2\u001b[0m\u001b[1;33m\u001b[0m\u001b[1;33m\u001b[0m\u001b[1;33m\u001b[0m\u001b[0m\n\u001b[1;32m---> 10\u001b[1;33m \u001b[0mdf2\u001b[0m \u001b[1;33m=\u001b[0m \u001b[0mxl\u001b[0m\u001b[1;33m.\u001b[0m\u001b[0mparse\u001b[0m\u001b[1;33m(\u001b[0m\u001b[1;36m1\u001b[0m\u001b[1;33m,\u001b[0m \u001b[0mparse_cols\u001b[0m\u001b[1;33m=\u001b[0m\u001b[1;33m[\u001b[0m\u001b[1;36m0\u001b[0m\u001b[1;33m]\u001b[0m\u001b[1;33m,\u001b[0m \u001b[0mskiprows\u001b[0m\u001b[1;33m=\u001b[0m\u001b[1;33m[\u001b[0m\u001b[1;36m0\u001b[0m\u001b[1;33m]\u001b[0m\u001b[1;33m,\u001b[0m \u001b[0mnames\u001b[0m\u001b[1;33m=\u001b[0m\u001b[1;33m[\u001b[0m\u001b[1;34m'Country'\u001b[0m\u001b[1;33m]\u001b[0m\u001b[1;33m)\u001b[0m\u001b[1;33m\u001b[0m\u001b[1;33m\u001b[0m\u001b[0m\n\u001b[0m\u001b[0;32m     11\u001b[0m \u001b[1;33m\u001b[0m\u001b[0m\n\u001b[0;32m     12\u001b[0m \u001b[1;31m# Print the head of the DataFrame df2\u001b[0m\u001b[1;33m\u001b[0m\u001b[1;33m\u001b[0m\u001b[1;33m\u001b[0m\u001b[0m\n",
      "\u001b[1;32m~\\Anaconda3\\lib\\site-packages\\pandas\\io\\excel.py\u001b[0m in \u001b[0;36mparse\u001b[1;34m(self, sheet_name, header, names, index_col, usecols, squeeze, converters, true_values, false_values, skiprows, nrows, na_values, parse_dates, date_parser, thousands, comment, skipfooter, convert_float, **kwds)\u001b[0m\n\u001b[0;32m    454\u001b[0m                                  \u001b[0mskipfooter\u001b[0m\u001b[1;33m=\u001b[0m\u001b[0mskipfooter\u001b[0m\u001b[1;33m,\u001b[0m\u001b[1;33m\u001b[0m\u001b[1;33m\u001b[0m\u001b[0m\n\u001b[0;32m    455\u001b[0m                                  \u001b[0mconvert_float\u001b[0m\u001b[1;33m=\u001b[0m\u001b[0mconvert_float\u001b[0m\u001b[1;33m,\u001b[0m\u001b[1;33m\u001b[0m\u001b[1;33m\u001b[0m\u001b[0m\n\u001b[1;32m--> 456\u001b[1;33m                                  **kwds)\n\u001b[0m\u001b[0;32m    457\u001b[0m \u001b[1;33m\u001b[0m\u001b[0m\n\u001b[0;32m    458\u001b[0m     \u001b[1;32mdef\u001b[0m \u001b[0m_should_parse\u001b[0m\u001b[1;33m(\u001b[0m\u001b[0mself\u001b[0m\u001b[1;33m,\u001b[0m \u001b[0mi\u001b[0m\u001b[1;33m,\u001b[0m \u001b[0musecols\u001b[0m\u001b[1;33m)\u001b[0m\u001b[1;33m:\u001b[0m\u001b[1;33m\u001b[0m\u001b[1;33m\u001b[0m\u001b[0m\n",
      "\u001b[1;32m~\\Anaconda3\\lib\\site-packages\\pandas\\io\\excel.py\u001b[0m in \u001b[0;36m_parse_excel\u001b[1;34m(self, sheet_name, header, names, index_col, usecols, squeeze, dtype, true_values, false_values, skiprows, nrows, na_values, verbose, parse_dates, date_parser, thousands, comment, skipfooter, convert_float, **kwds)\u001b[0m\n\u001b[0;32m    687\u001b[0m                 \u001b[0moutput\u001b[0m\u001b[1;33m[\u001b[0m\u001b[0masheetname\u001b[0m\u001b[1;33m]\u001b[0m \u001b[1;33m=\u001b[0m \u001b[0mparser\u001b[0m\u001b[1;33m.\u001b[0m\u001b[0mread\u001b[0m\u001b[1;33m(\u001b[0m\u001b[0mnrows\u001b[0m\u001b[1;33m=\u001b[0m\u001b[0mnrows\u001b[0m\u001b[1;33m)\u001b[0m\u001b[1;33m\u001b[0m\u001b[1;33m\u001b[0m\u001b[0m\n\u001b[0;32m    688\u001b[0m                 \u001b[1;32mif\u001b[0m \u001b[0mnames\u001b[0m \u001b[1;32mis\u001b[0m \u001b[1;32mnot\u001b[0m \u001b[1;32mNone\u001b[0m\u001b[1;33m:\u001b[0m\u001b[1;33m\u001b[0m\u001b[1;33m\u001b[0m\u001b[0m\n\u001b[1;32m--> 689\u001b[1;33m                     \u001b[0moutput\u001b[0m\u001b[1;33m[\u001b[0m\u001b[0masheetname\u001b[0m\u001b[1;33m]\u001b[0m\u001b[1;33m.\u001b[0m\u001b[0mcolumns\u001b[0m \u001b[1;33m=\u001b[0m \u001b[0mnames\u001b[0m\u001b[1;33m\u001b[0m\u001b[1;33m\u001b[0m\u001b[0m\n\u001b[0m\u001b[0;32m    690\u001b[0m                 \u001b[1;32mif\u001b[0m \u001b[1;32mnot\u001b[0m \u001b[0msqueeze\u001b[0m \u001b[1;32mor\u001b[0m \u001b[0misinstance\u001b[0m\u001b[1;33m(\u001b[0m\u001b[0moutput\u001b[0m\u001b[1;33m[\u001b[0m\u001b[0masheetname\u001b[0m\u001b[1;33m]\u001b[0m\u001b[1;33m,\u001b[0m \u001b[0mDataFrame\u001b[0m\u001b[1;33m)\u001b[0m\u001b[1;33m:\u001b[0m\u001b[1;33m\u001b[0m\u001b[1;33m\u001b[0m\u001b[0m\n\u001b[0;32m    691\u001b[0m                     output[asheetname].columns = output[\n",
      "\u001b[1;32m~\\Anaconda3\\lib\\site-packages\\pandas\\core\\generic.py\u001b[0m in \u001b[0;36m__setattr__\u001b[1;34m(self, name, value)\u001b[0m\n\u001b[0;32m   4387\u001b[0m         \u001b[1;32mtry\u001b[0m\u001b[1;33m:\u001b[0m\u001b[1;33m\u001b[0m\u001b[1;33m\u001b[0m\u001b[0m\n\u001b[0;32m   4388\u001b[0m             \u001b[0mobject\u001b[0m\u001b[1;33m.\u001b[0m\u001b[0m__getattribute__\u001b[0m\u001b[1;33m(\u001b[0m\u001b[0mself\u001b[0m\u001b[1;33m,\u001b[0m \u001b[0mname\u001b[0m\u001b[1;33m)\u001b[0m\u001b[1;33m\u001b[0m\u001b[1;33m\u001b[0m\u001b[0m\n\u001b[1;32m-> 4389\u001b[1;33m             \u001b[1;32mreturn\u001b[0m \u001b[0mobject\u001b[0m\u001b[1;33m.\u001b[0m\u001b[0m__setattr__\u001b[0m\u001b[1;33m(\u001b[0m\u001b[0mself\u001b[0m\u001b[1;33m,\u001b[0m \u001b[0mname\u001b[0m\u001b[1;33m,\u001b[0m \u001b[0mvalue\u001b[0m\u001b[1;33m)\u001b[0m\u001b[1;33m\u001b[0m\u001b[1;33m\u001b[0m\u001b[0m\n\u001b[0m\u001b[0;32m   4390\u001b[0m         \u001b[1;32mexcept\u001b[0m \u001b[0mAttributeError\u001b[0m\u001b[1;33m:\u001b[0m\u001b[1;33m\u001b[0m\u001b[1;33m\u001b[0m\u001b[0m\n\u001b[0;32m   4391\u001b[0m             \u001b[1;32mpass\u001b[0m\u001b[1;33m\u001b[0m\u001b[1;33m\u001b[0m\u001b[0m\n",
      "\u001b[1;32mpandas\\_libs\\properties.pyx\u001b[0m in \u001b[0;36mpandas._libs.properties.AxisProperty.__set__\u001b[1;34m()\u001b[0m\n",
      "\u001b[1;32m~\\Anaconda3\\lib\\site-packages\\pandas\\core\\generic.py\u001b[0m in \u001b[0;36m_set_axis\u001b[1;34m(self, axis, labels)\u001b[0m\n\u001b[0;32m    644\u001b[0m \u001b[1;33m\u001b[0m\u001b[0m\n\u001b[0;32m    645\u001b[0m     \u001b[1;32mdef\u001b[0m \u001b[0m_set_axis\u001b[0m\u001b[1;33m(\u001b[0m\u001b[0mself\u001b[0m\u001b[1;33m,\u001b[0m \u001b[0maxis\u001b[0m\u001b[1;33m,\u001b[0m \u001b[0mlabels\u001b[0m\u001b[1;33m)\u001b[0m\u001b[1;33m:\u001b[0m\u001b[1;33m\u001b[0m\u001b[1;33m\u001b[0m\u001b[0m\n\u001b[1;32m--> 646\u001b[1;33m         \u001b[0mself\u001b[0m\u001b[1;33m.\u001b[0m\u001b[0m_data\u001b[0m\u001b[1;33m.\u001b[0m\u001b[0mset_axis\u001b[0m\u001b[1;33m(\u001b[0m\u001b[0maxis\u001b[0m\u001b[1;33m,\u001b[0m \u001b[0mlabels\u001b[0m\u001b[1;33m)\u001b[0m\u001b[1;33m\u001b[0m\u001b[1;33m\u001b[0m\u001b[0m\n\u001b[0m\u001b[0;32m    647\u001b[0m         \u001b[0mself\u001b[0m\u001b[1;33m.\u001b[0m\u001b[0m_clear_item_cache\u001b[0m\u001b[1;33m(\u001b[0m\u001b[1;33m)\u001b[0m\u001b[1;33m\u001b[0m\u001b[1;33m\u001b[0m\u001b[0m\n\u001b[0;32m    648\u001b[0m \u001b[1;33m\u001b[0m\u001b[0m\n",
      "\u001b[1;32m~\\Anaconda3\\lib\\site-packages\\pandas\\core\\internals.py\u001b[0m in \u001b[0;36mset_axis\u001b[1;34m(self, axis, new_labels)\u001b[0m\n\u001b[0;32m   3321\u001b[0m             raise ValueError(\n\u001b[0;32m   3322\u001b[0m                 \u001b[1;34m'Length mismatch: Expected axis has {old} elements, new '\u001b[0m\u001b[1;33m\u001b[0m\u001b[1;33m\u001b[0m\u001b[0m\n\u001b[1;32m-> 3323\u001b[1;33m                 'values have {new} elements'.format(old=old_len, new=new_len))\n\u001b[0m\u001b[0;32m   3324\u001b[0m \u001b[1;33m\u001b[0m\u001b[0m\n\u001b[0;32m   3325\u001b[0m         \u001b[0mself\u001b[0m\u001b[1;33m.\u001b[0m\u001b[0maxes\u001b[0m\u001b[1;33m[\u001b[0m\u001b[0maxis\u001b[0m\u001b[1;33m]\u001b[0m \u001b[1;33m=\u001b[0m \u001b[0mnew_labels\u001b[0m\u001b[1;33m\u001b[0m\u001b[1;33m\u001b[0m\u001b[0m\n",
      "\u001b[1;31mValueError\u001b[0m: Length mismatch: Expected axis has 2 elements, new values have 1 elements"
     ]
    }
   ],
   "source": [
    "x1 = pd.ExcelFile('battledeath.xlsx')\n",
    "\n",
    "# Parse the first sheet and rename the columns: df1\n",
    "df1 = xl.parse(0, skiprows=[0], names=['Country','AAM due to War (2002)'])\n",
    "\n",
    "# Print the head of the DataFrame df1\n",
    "print(df1.head())\n",
    "\n",
    "# Parse the first column of the second sheet and rename the column: df2\n",
    "df2 = xl.parse(1, parse_cols=[0], skiprows=[0], names=['Country'])\n",
    "\n",
    "# Print the head of the DataFrame df2\n",
    "print(df2.head())\n"
   ]
  },
  {
   "cell_type": "markdown",
   "metadata": {},
   "source": [
    "---\n",
    "\n",
    "### exercise(8) - How to import SAS7BDAT\n",
    "\n",
    "How do you correctly import the function SAS7BDAT() from the package sas7bdat?\n",
    "\n",
    "### Possible Answers\n",
    "\n",
    "1. `import SAS7BDAT from sas7bdat`\n",
    "\n",
    "2. `from SAS7BDAT import sas7bdat`\n",
    "\n",
    "3. `import sas7bdat from SAS7BDAT`\n",
    "\n",
    "4. `from sas7bdat import SAS7BDAT`\n",
    "\n",
    "### answer : (1)\n"
   ]
  },
  {
   "cell_type": "markdown",
   "metadata": {},
   "source": [
    "---\n",
    "\n",
    "### exercise(9) - Importing SAS files\n",
    "\n",
    "In this exercise, you'll figure out how toimport a SAS file as a DataFrame using `` SAS7BDAT `` and`` pandas ``. The file `` 'sales.sas7bdat' `` is alreadyin your working directory and both `` pandas `` and `` matplotlib.pyplot `` havealready been imported as follows:\n",
    "The data are adapted from the website of the undergraduate text book[Principles of Econometrics](http://www.principlesofeconometrics.com/sas/)by Hill, Griffiths and Lim.\n",
    "\n",
    "\n",
    "\n",
    "#### Instructions\n",
    "\n",
    "\n",
    "*   Import the module `` SAS7BDAT `` from the library `` sas7bdat ``.\n",
    "*   In the context of the file `` 'sales.sas7bdat' ``, load its contents to a DataFrame `` df_sas ``, using the method `` to_data_frame() `` on the object `` file ``.\n",
    "*   Print the head of the DataFrame `` df_sas ``.\n",
    "*   Execute your entire script to produce a histogram plot!"
   ]
  },
  {
   "cell_type": "markdown",
   "metadata": {},
   "source": [
    "```python\n",
    "# Import sas7bdat package\n",
    "from ____ import ____\n",
    "\n",
    "# Save file to a DataFrame: df_sas\n",
    "with SAS7BDAT('sales.sas7bdat') as file:\n",
    "    ____\n",
    "\n",
    "# Print head of DataFrame\n",
    "\n",
    "\n",
    "# Plot histogram of DataFrame features (pandas and pyplot already imported)\n",
    "pd.DataFrame.hist(df_sas[['P']])\n",
    "plt.ylabel('count')\n",
    "plt.show()```"
   ]
  },
  {
   "cell_type": "code",
   "execution_count": 11,
   "metadata": {},
   "outputs": [
    {
     "name": "stdout",
     "output_type": "stream",
     "text": [
      "     YEAR     P           S\n",
      "0  1950.0  12.9  181.899994\n",
      "1  1951.0  11.9  245.000000\n",
      "2  1952.0  10.7  250.199997\n",
      "3  1953.0  11.3  265.899994\n",
      "4  1954.0  11.2  248.500000\n"
     ]
    },
    {
     "data": {
      "image/png": "[encoded data removed]",
      "text/plain": [
       "<Figure size 432x288 with 1 Axes>"
      ]
     },
     "metadata": {
      "needs_background": "light"
     },
     "output_type": "display_data"
    }
   ],
   "source": [
    "import matplotlib.pyplot as plt\n",
    "# Import sas7bdat package\n",
    "from sas7bdat import SAS7BDAT\n",
    "\n",
    "# Save file to a DataFrame: df_sas\n",
    "with SAS7BDAT('sales.sas7bdat') as file:\n",
    "    df_sas = file.to_data_frame()\n",
    "\n",
    "# Print head of DataFrame\n",
    "print(df_sas.head())\n",
    "\n",
    "# Plot histogram of DataFrame features (pandas and pyplot already imported)\n",
    "pd.DataFrame.hist(df_sas[['P']])\n",
    "plt.ylabel('count')\n",
    "plt.show()\n"
   ]
  },
  {
   "cell_type": "markdown",
   "metadata": {},
   "source": [
    "---\n",
    "\n",
    "### exercise(10)Using read_stata to import Stata files\n",
    "\n",
    "The `pandas` package has been imported in the environment as `pd` and the file `disarea.dta` is in your working directory. The data consist of disease extents for several diseases in various countries (more information can be found **here**).\n",
    "\n",
    "What is the correct way of using the `read_stata()` function to import `disarea.dta` into the object `df`?\n",
    "\n",
    "\n",
    "### Possible Answers\n",
    "\n",
    "1. `df = 'disarea.dta'`\n",
    "2. `df = read_stata.pd('disarea.dta')`\n",
    "3. `df = pd.read_stata('disarea.dta')`\n",
    "4. `df = pd.read_stata(disarea.dta)`\n",
    "\n",
    "### answer : (3)"
   ]
  },
  {
   "cell_type": "markdown",
   "metadata": {},
   "source": [
    "---\n",
    "\n",
    "### exercise(11) - Importing Stata files\n",
    "Here, you'll gain expertise inimporting Stata files as DataFrames using the`` pd.read_stata() `` function from `` pandas ``.The last exercise's file, `` 'disarea.dta' ``, is stillin your working directory.\n",
    "\n",
    "\n",
    "\n",
    "#### Instructions\n",
    "\n",
    "\n",
    "*   Use `` pd.read_stata() `` to load the file `` 'disarea.dta' `` into the DataFrame `` df ``.\n",
    "*   Print the head of the DataFrame `` df ``.\n",
    "*   Visualize your results by plotting a histogram of the column `` disa10 ``. We’ve already provided this code for you, so just run it!\n"
   ]
  },
  {
   "cell_type": "markdown",
   "metadata": {},
   "source": [
    "```python\n",
    "# Import pandas\n",
    "import pandas as pd\n",
    "\n",
    "# Load Stata file into a pandas DataFrame: df\n",
    "\n",
    "\n",
    "# Print the head of the DataFrame df\n",
    "\n",
    "\n",
    "# Plot histogram of one column of the DataFrame\n",
    "pd.DataFrame.hist(df[['disa10']])\n",
    "plt.xlabel('Extent of disease')\n",
    "plt.ylabel('Number of countries')\n",
    "plt.show()```"
   ]
  },
  {
   "cell_type": "code",
   "execution_count": 17,
   "metadata": {},
   "outputs": [
    {
     "name": "stdout",
     "output_type": "stream",
     "text": [
      "  wbcode               country  disa1  disa2  disa3  disa4  disa5  disa6  \\\n",
      "0    AFG           Afghanistan   0.00   0.00   0.76   0.73    0.0   0.00   \n",
      "1    AGO                Angola   0.32   0.02   0.56   0.00    0.0   0.00   \n",
      "2    ALB               Albania   0.00   0.00   0.02   0.00    0.0   0.00   \n",
      "3    ARE  United Arab Emirates   0.00   0.00   0.00   0.00    0.0   0.00   \n",
      "4    ARG             Argentina   0.00   0.24   0.24   0.00    0.0   0.23   \n",
      "\n",
      "   disa7  disa8  ...  disa16  disa17  disa18  disa19  disa20  disa21  disa22  \\\n",
      "0   0.00    0.0  ...     0.0     0.0     0.0    0.00    0.00     0.0    0.00   \n",
      "1   0.56    0.0  ...     0.0     0.4     0.0    0.61    0.00     0.0    0.99   \n",
      "2   0.00    0.0  ...     0.0     0.0     0.0    0.00    0.00     0.0    0.00   \n",
      "3   0.00    0.0  ...     0.0     0.0     0.0    0.00    0.00     0.0    0.00   \n",
      "4   0.00    0.0  ...     0.0     0.0     0.0    0.00    0.05     0.0    0.00   \n",
      "\n",
      "   disa23  disa24  disa25  \n",
      "0    0.02    0.00    0.00  \n",
      "1    0.98    0.61    0.00  \n",
      "2    0.00    0.00    0.16  \n",
      "3    0.00    0.00    0.00  \n",
      "4    0.01    0.00    0.11  \n",
      "\n",
      "[5 rows x 27 columns]\n"
     ]
    },
    {
     "data": {
      "image/png": "[encoded data removed]",
      "text/plain": [
       "<Figure size 432x288 with 1 Axes>"
      ]
     },
     "metadata": {
      "needs_background": "light"
     },
     "output_type": "display_data"
    }
   ],
   "source": [
    "\n",
    "# Import pandas\n",
    "import pandas as pd\n",
    "\n",
    "# Load Stata file into a pandas DataFrame: df\n",
    "df=pd.read_stata('disarea.dta')\n",
    "\n",
    "# Print the head of the DataFrame df\n",
    "print(df.head())\n",
    "\n",
    "# Plot histogram of one column of the DataFrame\n",
    "pd.DataFrame.hist(df[['disa10']])\n",
    "plt.xlabel('Extent of disease')\n",
    "plt.ylabel('Number of countries')\n",
    "plt.show()\n"
   ]
  },
  {
   "cell_type": "markdown",
   "metadata": {},
   "source": [
    "---\n",
    "\n",
    "### exercise(13)Using File to import HDF5 files\n",
    "\n",
    "\n",
    "The `h5py` package has been imported in the environment and the file `LIGO_data.hdf5` is loaded in the object `h5py_file`.\n",
    "\n",
    "What is the correct way of using the h5py function, `File()`, to import the file in `h5py_file` into an object, `h5py_data`, for reading only?\n",
    "\n",
    "\n",
    "### Possible Answers\n",
    "\n",
    "1. `h5py_data = File(h5py_file, 'r')`\n",
    "2. `h5py_data = h5py.File(h5py_file, 'r')`\n",
    "3. `h5py_data = h5py.File(h5py_file, read)`\n",
    "4. `h5py_data = h5py.File(h5py_file, 'read')`\n",
    "\n",
    "### answer: (2)\n"
   ]
  },
  {
   "cell_type": "markdown",
   "metadata": {},
   "source": [
    "---\n",
    "\n",
    "### exercise(14) - Using h5py to import HDF5 files\n",
    "\n",
    "The file `` 'LIGO_data.hdf5' `` is already in your working directory.In this exercise, you'll import it using the `` h5py `` library.You'll also print out its datatype to confirm you have importedit correctly. You'll then study the structure of the file in orderto see precisely what HDF groups it contains.\n",
    "You can find the LIGO data plus loads of documentation and tutorials [here](https://losc.ligo.org/events/GW150914/). There is also a great tutorial on Signal Processing with the data [here](https://losc.ligo.org/s/events/GW150914/GW150914_tutorial.html).\n",
    "\n",
    "\n",
    "\n",
    "#### Instructions\n",
    "\n",
    "\n",
    "*   Import the package `` h5py ``.\n",
    "*   Assign the name of the file to the variable `` file ``.\n",
    "*   Load the file as read only into the variable `` data ``.\n",
    "*   Print the datatype of `` data ``.\n",
    "*   Print the names of the groups in the HDF5 file `` 'LIGO_data.hdf5' ``.\n"
   ]
  },
  {
   "cell_type": "markdown",
   "metadata": {},
   "source": [
    "``` python\n",
    "\n",
    "# Import packages\n",
    "import numpy as np\n",
    "import ____\n",
    "\n",
    "# Assign filename: file\n",
    "\n",
    "\n",
    "# Load file: data\n",
    "data = h5py.File(____, ____)\n",
    "\n",
    "# Print the datatype of the loaded file\n",
    "\n",
    "\n",
    "# Print the keys of the file\n",
    "for key in ____:\n",
    "    print(____)\n",
    "```"
   ]
  },
  {
   "cell_type": "code",
   "execution_count": 12,
   "metadata": {
    "scrolled": false
   },
   "outputs": [
    {
     "ename": "OSError",
     "evalue": "Unable to open file (unable to open file: name = 'data/LIGO_data.hdf5', errno = 2, error message = 'No such file or directory', flags = 0, o_flags = 0)",
     "output_type": "error",
     "traceback": [
      "\u001b[1;31m---------------------------------------------------------------------------\u001b[0m",
      "\u001b[1;31mOSError\u001b[0m                                   Traceback (most recent call last)",
      "\u001b[1;32m<ipython-input-12-5163668a4c24>\u001b[0m in \u001b[0;36m<module>\u001b[1;34m\u001b[0m\n\u001b[0;32m      7\u001b[0m \u001b[1;33m\u001b[0m\u001b[0m\n\u001b[0;32m      8\u001b[0m \u001b[1;31m# Load file: data\u001b[0m\u001b[1;33m\u001b[0m\u001b[1;33m\u001b[0m\u001b[1;33m\u001b[0m\u001b[0m\n\u001b[1;32m----> 9\u001b[1;33m \u001b[0mdata\u001b[0m \u001b[1;33m=\u001b[0m \u001b[0mh5py\u001b[0m\u001b[1;33m.\u001b[0m\u001b[0mFile\u001b[0m\u001b[1;33m(\u001b[0m\u001b[0mfile\u001b[0m\u001b[1;33m,\u001b[0m\u001b[1;34m'r'\u001b[0m\u001b[1;33m)\u001b[0m\u001b[1;33m\u001b[0m\u001b[1;33m\u001b[0m\u001b[0m\n\u001b[0m\u001b[0;32m     10\u001b[0m \u001b[1;33m\u001b[0m\u001b[0m\n\u001b[0;32m     11\u001b[0m \u001b[1;31m# Print the datatype of the loaded file\u001b[0m\u001b[1;33m\u001b[0m\u001b[1;33m\u001b[0m\u001b[1;33m\u001b[0m\u001b[0m\n",
      "\u001b[1;32m~\\Anaconda3\\lib\\site-packages\\h5py\\_hl\\files.py\u001b[0m in \u001b[0;36m__init__\u001b[1;34m(self, name, mode, driver, libver, userblock_size, swmr, **kwds)\u001b[0m\n\u001b[0;32m    310\u001b[0m             \u001b[1;32mwith\u001b[0m \u001b[0mphil\u001b[0m\u001b[1;33m:\u001b[0m\u001b[1;33m\u001b[0m\u001b[1;33m\u001b[0m\u001b[0m\n\u001b[0;32m    311\u001b[0m                 \u001b[0mfapl\u001b[0m \u001b[1;33m=\u001b[0m \u001b[0mmake_fapl\u001b[0m\u001b[1;33m(\u001b[0m\u001b[0mdriver\u001b[0m\u001b[1;33m,\u001b[0m \u001b[0mlibver\u001b[0m\u001b[1;33m,\u001b[0m \u001b[1;33m**\u001b[0m\u001b[0mkwds\u001b[0m\u001b[1;33m)\u001b[0m\u001b[1;33m\u001b[0m\u001b[1;33m\u001b[0m\u001b[0m\n\u001b[1;32m--> 312\u001b[1;33m                 \u001b[0mfid\u001b[0m \u001b[1;33m=\u001b[0m \u001b[0mmake_fid\u001b[0m\u001b[1;33m(\u001b[0m\u001b[0mname\u001b[0m\u001b[1;33m,\u001b[0m \u001b[0mmode\u001b[0m\u001b[1;33m,\u001b[0m \u001b[0muserblock_size\u001b[0m\u001b[1;33m,\u001b[0m \u001b[0mfapl\u001b[0m\u001b[1;33m,\u001b[0m \u001b[0mswmr\u001b[0m\u001b[1;33m=\u001b[0m\u001b[0mswmr\u001b[0m\u001b[1;33m)\u001b[0m\u001b[1;33m\u001b[0m\u001b[1;33m\u001b[0m\u001b[0m\n\u001b[0m\u001b[0;32m    313\u001b[0m \u001b[1;33m\u001b[0m\u001b[0m\n\u001b[0;32m    314\u001b[0m                 \u001b[1;32mif\u001b[0m \u001b[0mswmr_support\u001b[0m\u001b[1;33m:\u001b[0m\u001b[1;33m\u001b[0m\u001b[1;33m\u001b[0m\u001b[0m\n",
      "\u001b[1;32m~\\Anaconda3\\lib\\site-packages\\h5py\\_hl\\files.py\u001b[0m in \u001b[0;36mmake_fid\u001b[1;34m(name, mode, userblock_size, fapl, fcpl, swmr)\u001b[0m\n\u001b[0;32m    140\u001b[0m         \u001b[1;32mif\u001b[0m \u001b[0mswmr\u001b[0m \u001b[1;32mand\u001b[0m \u001b[0mswmr_support\u001b[0m\u001b[1;33m:\u001b[0m\u001b[1;33m\u001b[0m\u001b[1;33m\u001b[0m\u001b[0m\n\u001b[0;32m    141\u001b[0m             \u001b[0mflags\u001b[0m \u001b[1;33m|=\u001b[0m \u001b[0mh5f\u001b[0m\u001b[1;33m.\u001b[0m\u001b[0mACC_SWMR_READ\u001b[0m\u001b[1;33m\u001b[0m\u001b[1;33m\u001b[0m\u001b[0m\n\u001b[1;32m--> 142\u001b[1;33m         \u001b[0mfid\u001b[0m \u001b[1;33m=\u001b[0m \u001b[0mh5f\u001b[0m\u001b[1;33m.\u001b[0m\u001b[0mopen\u001b[0m\u001b[1;33m(\u001b[0m\u001b[0mname\u001b[0m\u001b[1;33m,\u001b[0m \u001b[0mflags\u001b[0m\u001b[1;33m,\u001b[0m \u001b[0mfapl\u001b[0m\u001b[1;33m=\u001b[0m\u001b[0mfapl\u001b[0m\u001b[1;33m)\u001b[0m\u001b[1;33m\u001b[0m\u001b[1;33m\u001b[0m\u001b[0m\n\u001b[0m\u001b[0;32m    143\u001b[0m     \u001b[1;32melif\u001b[0m \u001b[0mmode\u001b[0m \u001b[1;33m==\u001b[0m \u001b[1;34m'r+'\u001b[0m\u001b[1;33m:\u001b[0m\u001b[1;33m\u001b[0m\u001b[1;33m\u001b[0m\u001b[0m\n\u001b[0;32m    144\u001b[0m         \u001b[0mfid\u001b[0m \u001b[1;33m=\u001b[0m \u001b[0mh5f\u001b[0m\u001b[1;33m.\u001b[0m\u001b[0mopen\u001b[0m\u001b[1;33m(\u001b[0m\u001b[0mname\u001b[0m\u001b[1;33m,\u001b[0m \u001b[0mh5f\u001b[0m\u001b[1;33m.\u001b[0m\u001b[0mACC_RDWR\u001b[0m\u001b[1;33m,\u001b[0m \u001b[0mfapl\u001b[0m\u001b[1;33m=\u001b[0m\u001b[0mfapl\u001b[0m\u001b[1;33m)\u001b[0m\u001b[1;33m\u001b[0m\u001b[1;33m\u001b[0m\u001b[0m\n",
      "\u001b[1;32mh5py\\_objects.pyx\u001b[0m in \u001b[0;36mh5py._objects.with_phil.wrapper\u001b[1;34m()\u001b[0m\n",
      "\u001b[1;32mh5py\\_objects.pyx\u001b[0m in \u001b[0;36mh5py._objects.with_phil.wrapper\u001b[1;34m()\u001b[0m\n",
      "\u001b[1;32mh5py\\h5f.pyx\u001b[0m in \u001b[0;36mh5py.h5f.open\u001b[1;34m()\u001b[0m\n",
      "\u001b[1;31mOSError\u001b[0m: Unable to open file (unable to open file: name = 'data/LIGO_data.hdf5', errno = 2, error message = 'No such file or directory', flags = 0, o_flags = 0)"
     ]
    }
   ],
   "source": [
    "# Import packages\n",
    "import numpy as np\n",
    "import h5py\n",
    "\n",
    "# Assign filename: file\n",
    "file = 'data/LIGO_data.hdf5'\n",
    "\n",
    "# Load file: data\n",
    "data = h5py.File(file,'r')\n",
    "\n",
    "# Print the datatype of the loaded file\n",
    "print(type(data))\n",
    "\n",
    "# Print the keys of the file\n",
    "for key in data.keys():\n",
    "    print(key)"
   ]
  },
  {
   "cell_type": "markdown",
   "metadata": {},
   "source": [
    "---\n",
    "\n",
    "### exercise(15) - Extracting data from your HDF5 file\n",
    "\n",
    "In this exercise, you'll extract some of the LIGO experiment'sactual data from the HDF5 file and you'll visualize it.\n",
    "To do so, you'll need to first explore the HDF5 group `` 'strain' ``.\n",
    "\n",
    "\n",
    "\n",
    "#### Instructions\n",
    "\n",
    "\n",
    "*   Assign the HDF5 group `` data['strain'] `` to `` group ``.\n",
    "*   In the `` for `` loop, print out the keys of the HDF5 group in `` group ``.\n",
    "*   Assign to the variable `` strain `` the values of the time series data `` data['strain']['Strain'] `` using the attribute `` .value ``.\n",
    "*   Set `` num_samples `` equal to `` 10000 ``, the number of time points we wish to sample.\n",
    "*   Execute the rest of the code to produce a plot of the time series data in `` LIGO_data.hdf5 ``.\n",
    "\n"
   ]
  },
  {
   "cell_type": "markdown",
   "metadata": {},
   "source": [
    "```python \n",
    "# Get the HDF5 group: group\n",
    "\n",
    "\n",
    "# Check out keys of group\n",
    "for key in ____:\n",
    "    print(____)\n",
    "\n",
    "# Set variable equal to time series data: strain\n",
    "\n",
    "\n",
    "# Set number of time points to sample: num_samples\n",
    "\n",
    "\n",
    "# Set time vector\n",
    "time = np.arange(0, 1, 1/num_samples)\n",
    "\n",
    "# Plot data\n",
    "plt.plot(time, strain[:num_samples])\n",
    "plt.xlabel('GPS Time (s)')\n",
    "plt.ylabel('strain')\n",
    "plt.show()\n",
    "```"
   ]
  },
  {
   "cell_type": "code",
   "execution_count": 16,
   "metadata": {},
   "outputs": [
    {
     "ename": "NameError",
     "evalue": "name 'data' is not defined",
     "output_type": "error",
     "traceback": [
      "\u001b[1;31m---------------------------------------------------------------------------\u001b[0m",
      "\u001b[1;31mNameError\u001b[0m                                 Traceback (most recent call last)",
      "\u001b[1;32m<ipython-input-16-6adf6053591c>\u001b[0m in \u001b[0;36m<module>\u001b[1;34m\u001b[0m\n\u001b[0;32m      2\u001b[0m \u001b[1;32mimport\u001b[0m \u001b[0mh5py\u001b[0m\u001b[1;33m\u001b[0m\u001b[1;33m\u001b[0m\u001b[0m\n\u001b[0;32m      3\u001b[0m \u001b[1;31m# Get the HDF5 group: group\u001b[0m\u001b[1;33m\u001b[0m\u001b[1;33m\u001b[0m\u001b[1;33m\u001b[0m\u001b[0m\n\u001b[1;32m----> 4\u001b[1;33m \u001b[0mgroup\u001b[0m \u001b[1;33m=\u001b[0m \u001b[0mdata\u001b[0m\u001b[1;33m[\u001b[0m\u001b[1;34m'strain'\u001b[0m\u001b[1;33m]\u001b[0m\u001b[1;33m\u001b[0m\u001b[1;33m\u001b[0m\u001b[0m\n\u001b[0m\u001b[0;32m      5\u001b[0m \u001b[1;33m\u001b[0m\u001b[0m\n\u001b[0;32m      6\u001b[0m \u001b[1;31m# Check out keys of group\u001b[0m\u001b[1;33m\u001b[0m\u001b[1;33m\u001b[0m\u001b[1;33m\u001b[0m\u001b[0m\n",
      "\u001b[1;31mNameError\u001b[0m: name 'data' is not defined"
     ]
    }
   ],
   "source": [
    "import matplotlib.pyplot as plt\n",
    "\n",
    "# Get the HDF5 group: group\n",
    "group = data['strain']\n",
    "\n",
    "# Check out keys of group\n",
    "for key in group.keys():\n",
    "    print(key)\n",
    "\n",
    "# Set variable equal to time series data: strain\n",
    "strain =data['strain']['Strain'].value\n",
    "\n",
    "# Set number of time points to sample: num_samples\n",
    "num_samples = 10000\n",
    "\n",
    "# Set time vector\n",
    "time = np.arange(0, 1, 1/num_samples)\n",
    "\n",
    "# Plot data\n",
    "plt.plot(time, strain[:num_samples])\n",
    "plt.xlabel('GPS Time (s)')\n",
    "plt.ylabel('strain')\n",
    "plt.show()"
   ]
  },
  {
   "cell_type": "markdown",
   "metadata": {},
   "source": [
    "---\n",
    "\n",
    "### exercise(17) - Loading .mat files\n",
    "\n",
    "In this exercise, you'll figure out how toload a MATLAB file using `` scipy.io.loadmat() ``and you'll discover what Pythondatatype it yields.\n",
    "The file `` 'albeck_gene_expression.mat' `` is inyour working directory. This file contains [gene expression data](https://www.mcb.ucdavis.edu/faculty-labs/albeck/workshop.htm) from the Albeck Lab at UC Davis. You can find the data and some great documentation [here](https://www.mcb.ucdavis.edu/faculty-labs/albeck/workshop.htm).\n",
    "\n",
    "\n",
    "\n",
    "#### Instructions\n",
    "\n",
    "\n",
    "*   Import the package `` scipy.io ``.\n",
    "*   Load the file `` 'albeck_gene_expression.mat' `` into the variable `` mat ``; do so using the function `` scipy.io.loadmat() ``.\n",
    "*   Use the function `` type() `` to print the datatype of `` mat `` to the IPython shell.\n",
    "\n"
   ]
  },
  {
   "cell_type": "markdown",
   "metadata": {},
   "source": [
    "``` python\n",
    "# import package\n",
    "\n",
    "\n",
    "# Load MATLAB file: mat\n",
    "\n",
    "\n",
    "# Print the datatype type of mat\n",
    "print(____)\n",
    "```"
   ]
  },
  {
   "cell_type": "code",
   "execution_count": 19,
   "metadata": {},
   "outputs": [
    {
     "name": "stdout",
     "output_type": "stream",
     "text": [
      "<class 'dict'>\n"
     ]
    }
   ],
   "source": [
    "# Import package\n",
    "import scipy.io\n",
    "\n",
    "# Load MATLAB file: mat\n",
    "mat = scipy.io.loadmat('albeck_gene_expression.mat')\n",
    "\n",
    "# Print the datatype type of mat\n",
    "print(type(mat))\n"
   ]
  },
  {
   "cell_type": "markdown",
   "metadata": {},
   "source": [
    "---\n",
    "\n",
    "### exercise(18) - The structure of .mat in Python\n",
    "\n",
    "Here, you'll discover what is in the MATLABdictionary that you loaded in the previousexercise.\n",
    "The file `` 'albeck_gene_expression.mat' `` is already loadedinto the variable `` mat ``. The following libraries have alreadybeen imported as follows:\n",
    "Once again, this file contains [gene expression data](https://www.mcb.ucdavis.edu/faculty-labs/albeck/workshop.htm) from the Albeck Lab at UCDavis. You can find the data and some great documentation [here](https://www.mcb.ucdavis.edu/faculty-labs/albeck/workshop.htm).\n",
    "\n",
    "\n",
    "\n",
    "#### Instructions\n",
    "\n",
    "\n",
    "*   Use the method `` .keys() `` on the dictionary `` mat `` to print the keys. Most of these keys (in fact the ones that do NOT begin and end with '\\_\\_') are variables from the corresponding MATLAB environment.\n",
    "*   Print the type of the value corresponding to the key `` 'CYratioCyt' `` in `` mat ``. Recall that `` mat['CYratioCyt'] `` accesses the value.\n",
    "*   Print the shape of the value corresponding to the key `` 'CYratioCyt' `` using the `` numpy `` function `` shape() ``.\n",
    "*   Execute the entire script to see some oscillatory gene expression data!\n"
   ]
  },
  {
   "cell_type": "markdown",
   "metadata": {},
   "source": [
    "``` python\n",
    "# Print the keys of the MATLAB dictionary\n",
    "\n",
    "\n",
    "# Print the type of the value corresponding to the key 'CYratioCyt'\n",
    "\n",
    "\n",
    "# Print the shape of the value corresponding to the key 'CYratioCyt'\n",
    "\n",
    "\n",
    "# Subset the array and plot it\n",
    "data = mat['CYratioCyt'][25, 5:]\n",
    "fig = plt.figure()\n",
    "plt.plot(data)\n",
    "plt.xlabel('time (min.)')\n",
    "plt.ylabel('normalized fluorescence (measure of expression)')\n",
    "plt.show()\n",
    "```"
   ]
  },
  {
   "cell_type": "code",
   "execution_count": 20,
   "metadata": {},
   "outputs": [
    {
     "name": "stdout",
     "output_type": "stream",
     "text": [
      "dict_keys(['__header__', '__version__', '__globals__', 'rfpCyt', 'rfpNuc', 'cfpNuc', 'cfpCyt', 'yfpNuc', 'yfpCyt', 'CYratioCyt'])\n",
      "<class 'numpy.ndarray'>\n",
      "(200, 137)\n"
     ]
    },
    {
     "data": {
      "image/png": "[encoded data removed]",
      "text/plain": [
       "<Figure size 432x288 with 1 Axes>"
      ]
     },
     "metadata": {
      "needs_background": "light"
     },
     "output_type": "display_data"
    }
   ],
   "source": [
    "# Print the keys of the MATLAB dictionary\n",
    "print(mat.keys())\n",
    "\n",
    "# Print the type of the value corresponding to the key 'CYratioCyt'\n",
    "print(type(mat['CYratioCyt']))\n",
    "\n",
    "# Print the shape of the value corresponding to the key 'CYratioCyt'\n",
    "print(np.shape(mat['CYratioCyt']))\n",
    "\n",
    "# Subset the array and plot it\n",
    "data = mat['CYratioCyt'][25, 5:]\n",
    "fig = plt.figure()\n",
    "plt.plot(data)\n",
    "plt.xlabel('time (min.)')\n",
    "plt.ylabel('normalized fluorescence (measure of expression)')\n",
    "plt.show()\n"
   ]
  },
  {
   "cell_type": "markdown",
   "metadata": {},
   "source": [
    "---\n",
    "\n",
    "## chapter (3) - Working with relational databases in Python\n",
    "\n",
    "### exercise(2) - Pop quiz: The relational model\n",
    "\n",
    "Which of the following is not part of the relational model?\n",
    "\n",
    "### Possible Answers\n",
    "\n",
    "1. Each row or record in a table represents an instance of an entity type.\n",
    "\n",
    "2. Each column in a table represents an attribute or feature of an instance.\n",
    "\n",
    "3. Every table contains a primary key column, which has a unique entry for each row.\n",
    "\n",
    "4. A database consists of at least 3 tables.\n",
    "\n",
    "5. There are relations between tables.\n",
    "\n",
    "### answer: (1)\n"
   ]
  },
  {
   "cell_type": "markdown",
   "metadata": {},
   "source": [
    "---\n",
    "\n",
    "### exercise(4) - Creating a database engine\n",
    "\n",
    "Here, you're going to fire up your very first SQL engine. You'll create an engine to connect to the SQLite database `` 'Chinook.sqlite' ``, which is in your working directory. Remember that to create an engine to connect to `` 'Northwind.sqlite' ``, Hugo executed the command\n",
    "Here, `` 'sqlite:///Northwind.sqlite' `` is called the _connection string_ to the SQLite database `` Northwind.sqlite ``.A little bit of background on the [Chinook database](http://chinookdatabase.codeplex.com/): the Chinook database contains information about a semi-fictional digital media store in which media data is real and customer, employee and sales data has been manually created.\n",
    "Why the name Chinook, you ask? According to their [website](http://chinookdatabase.codeplex.com/),\n",
    "The name of this sample database was based on the Northwind database. Chinooks are winds in the interior West of North America, where the Canadian Prairies and Great Plains meet various mountain ranges. Chinooks are most prevalent over southern Alberta in Canada. Chinook is a good name choice for a database that intends to be an alternative to Northwind.\n",
    "\n",
    "\n",
    "\n",
    "#### Instructions\n",
    "\n",
    "\n",
    "*   Import the function `` create_engine `` from the module `` sqlalchemy ``.\n",
    "*   Create an engine to connect to the SQLite database `` 'Chinook.sqlite' `` and assign it to `` engine ``.\n",
    "\n",
    "\n"
   ]
  },
  {
   "cell_type": "markdown",
   "metadata": {},
   "source": [
    "``` python\n",
    "# Import necessary module\n",
    "from ____ import ____\n",
    "\n",
    "# Create engine: engine\n",
    "```"
   ]
  },
  {
   "cell_type": "code",
   "execution_count": 21,
   "metadata": {},
   "outputs": [],
   "source": [
    "# Import necessary module\n",
    "from sqlalchemy import create_engine\n",
    "\n",
    "# Create engine: engine\n",
    "\n",
    "engine = create_engine('sqlite:///Chinook.sqlite')"
   ]
  },
  {
   "cell_type": "markdown",
   "metadata": {},
   "source": [
    " ---\n",
    " \n",
    "### exercise(5) - What are the tables in the database?\n",
    "\n",
    "In this exercise, you'll once again create an engine to connect to `` 'Chinook.sqlite' ``.Before you can get any data out of the database, however, you'll need to know what tables it contains!\n",
    "To this end, you'll save the table names to a list using the method `` table_names() `` on the engine and then you will print the list.\n",
    "\n",
    "\n",
    "\n",
    "#### Instructions\n",
    "\n",
    "\n",
    "*   Import the function `` create_engine `` from the module `` sqlalchemy ``.\n",
    "*   Create an engine to connect to the SQLite database `` 'Chinook.sqlite' `` and assign it to `` engine ``.\n",
    "*   Using the method `` table_names() `` on the engine `` engine ``, assign the table names of `` 'Chinook.sqlite' `` to the variable `` table_names ``.\n",
    "*   Print the object `` table_names `` to the shell.\n"
   ]
  },
  {
   "cell_type": "markdown",
   "metadata": {},
   "source": [
    "``` python\n",
    "# Import necessary module\n",
    "\n",
    "\n",
    "# Create engine: engine\n",
    "\n",
    "\n",
    "# Save the table names to a list: table_names\n",
    "\n",
    "\n",
    "# Print the table names to the shell\n",
    "print(____)```\n"
   ]
  },
  {
   "cell_type": "code",
   "execution_count": 22,
   "metadata": {},
   "outputs": [
    {
     "name": "stdout",
     "output_type": "stream",
     "text": [
      "['Album', 'Artist', 'Customer', 'Employee', 'Genre', 'Invoice', 'InvoiceLine', 'MediaType', 'Playlist', 'PlaylistTrack', 'Track']\n"
     ]
    }
   ],
   "source": [
    "# Import necessary module\n",
    "from sqlalchemy import  create_engine\n",
    "\n",
    "# Create engine: engine\n",
    "engine = create_engine('sqlite:///Chinook.sqlite')\n",
    "\n",
    "# Save the table names to a list: table_names\n",
    "table_names = engine.table_names()\n",
    "\n",
    "# Print the table names to the shell\n",
    "print(table_names)\n"
   ]
  },
  {
   "cell_type": "markdown",
   "metadata": {},
   "source": [
    "---\n",
    "\n",
    "### exercise(7) - The Hello World of SQL Queries!\n",
    "Now, it's time for liftoff! In this exercise, you'll perform the Hello World of SQL queries, `` SELECT ``, in order to retrieve all columns of the table `` Album `` in the Chinook database. Recall that the query `` SELECT * `` selects all columns.\n",
    "\n",
    "\n",
    "\n",
    "#### Instructions\n",
    "\n",
    "\n",
    "*   Open the engine connection as `` con `` using the method `` connect() `` on the engine.\n",
    "*   Execute the query that __selects__ _ALL columns_ __from__ the `` Album `` table. Store the results in `` rs ``.\n",
    "*   Store all of your query results in the DataFrame `` df `` by applying the `` fetchall() `` method to the results `` rs ``.\n",
    "*   Close the connection!\n"
   ]
  },
  {
   "cell_type": "markdown",
   "metadata": {},
   "source": [
    "```python\n",
    "# Import packages\n",
    "from sqlalchemy import create_engine\n",
    "import pandas as pd\n",
    "\n",
    "# Create engine: engine\n",
    "engine = create_engine('sqlite:///Chinook.sqlite')\n",
    "\n",
    "# Open engine connection: con\n",
    "\n",
    "\n",
    "# Perform query: rs\n",
    "rs = con.execute(____)\n",
    "\n",
    "# Save results of the query to DataFrame: df\n",
    "df = pd.DataFrame(____)\n",
    "\n",
    "# Close connection\n",
    "\n",
    "\n",
    "# Print head of DataFrame df\n",
    "print(df.head())\n",
    "```"
   ]
  },
  {
   "cell_type": "code",
   "execution_count": 23,
   "metadata": {},
   "outputs": [
    {
     "name": "stdout",
     "output_type": "stream",
     "text": [
      "   0                                      1  2\n",
      "0  1  For Those About To Rock We Salute You  1\n",
      "1  2                      Balls to the Wall  2\n",
      "2  3                      Restless and Wild  2\n",
      "3  4                      Let There Be Rock  1\n",
      "4  5                               Big Ones  3\n"
     ]
    }
   ],
   "source": [
    "# Import packages\n",
    "from sqlalchemy import create_engine\n",
    "import pandas as pd\n",
    "\n",
    "# Create engine: engine\n",
    "engine = create_engine('sqlite:///Chinook.sqlite')\n",
    "\n",
    "# Open engine connection: con\n",
    "con = engine.connect()\n",
    "\n",
    "# Perform query: rs\n",
    "rs = con.execute('SELECT * FROM album')\n",
    "\n",
    "# Save results of the query to DataFrame: df\n",
    "df = pd.DataFrame(rs.fetchall())\n",
    "\n",
    "# Close connection\n",
    "con.close()\n",
    "\n",
    "# Print head of DataFrame df\n",
    "print(df.head())"
   ]
  },
  {
   "cell_type": "markdown",
   "metadata": {},
   "source": [
    "---\n",
    "\n",
    "### exercise(8) - Customizing the Hello World of SQL Queries\n",
    "Congratulations on executing your first SQL query! Now you're going to figure out how to customize your query in order to:\n",
    "Recall that Hugo performed a very similar query customization in the video:\n",
    "Packages have already been imported as follows:\n",
    "The engine has also already been created:\n",
    "The engine connection is already open with the statement\n",
    "All the code you need to complete is within this context.\n",
    "\n",
    "\n",
    "\n",
    "#### Instructions\n",
    "\n",
    "\n",
    "*   Execute the SQL query that __selects__ the columns `` LastName `` and `` Title `` __from__ the `` Employee `` table. Store the results in the variable `` rs ``.\n",
    "*   Apply the method `` fetchmany() `` to `` rs `` in order to retrieve 3 of the records. Store them in the DataFrame `` df ``.\n",
    "*   Using the `` rs `` object, set the DataFrame's column names to the corresponding names of the table columns."
   ]
  },
  {
   "cell_type": "markdown",
   "metadata": {},
   "source": [
    "```python \n",
    "# Open engine in context manager\n",
    "# Perform query and save results to DataFrame: df\n",
    "with engine.connect() as con:\n",
    "    rs = ____\n",
    "    df = pd.DataFrame(____)\n",
    "    df.columns = ____\n",
    "\n",
    "# Print the length of the DataFrame df\n",
    "print(len(df))\n",
    "\n",
    "# Print the head of the DataFrame df\n",
    "print(df.head())```"
   ]
  },
  {
   "cell_type": "code",
   "execution_count": 24,
   "metadata": {},
   "outputs": [
    {
     "name": "stdout",
     "output_type": "stream",
     "text": [
      "3\n",
      "  LastName                Title\n",
      "0    Adams      General Manager\n",
      "1  Edwards        Sales Manager\n",
      "2  Peacock  Sales Support Agent\n"
     ]
    }
   ],
   "source": [
    "# Open engine in context manager\n",
    "# Perform query and save results to DataFrame: df\n",
    "with engine.connect() as con:\n",
    "    rs = con.execute(\"SELECT lastname,Title FROM employee\")\n",
    "    df = pd.DataFrame(rs.fetchmany(size=3))\n",
    "    df.columns = rs.keys()\n",
    "\n",
    "# Print the length of the DataFrame df\n",
    "print(len(df))\n",
    "\n",
    "# Print the head of the DataFrame df\n",
    "print(df.head())\n"
   ]
  },
  {
   "cell_type": "markdown",
   "metadata": {},
   "source": [
    "---\n",
    "\n",
    "### exercise(9) - Filtering your database records using SQL&aposs WHERE\n",
    "You can now execute a basic SQL query to select records from any table in your database and you can also perform simple query customizations to select particular columns and numbers of rows.\n",
    "There are a couple more standard SQL query chops that will aid you in your journey to becoming an SQL ninja.\n",
    "Let's say, for example that you wanted to get all records from the `` Customer `` table of the Chinook database for which the `` Country `` is `` 'Canada' ``. You can do this very easily in SQL using a `` SELECT `` statement followed by a `` WHERE `` clause as follows:\n",
    "In fact, you can filter any `` SELECT `` statement by any condition using a `` WHERE `` clause. This is called _filtering_ your records.\n",
    "In this interactive exercise, you'll select all records of the `` Employee `` table for which `` 'EmployeeId' `` is greater than or equal to `` 6 ``.\n",
    "Packages are already imported as follows:\n",
    "Query away!\n",
    "\n",
    "\n",
    "\n",
    "#### Instructions\n",
    "\n",
    "\n",
    "*   Complete the argument of `` create_engine() `` so that the engine for the SQLite database `` 'Chinook.sqlite' `` is created.\n",
    "*   Execute the query that __selects__ _all_ records __from__ the `` Employee `` table __where__ `` 'EmployeeId' `` is greater than or equal to `` 6 ``. Use the `` &gt;= `` operator and assign the results to `` rs ``.\n",
    "*   Apply the method `` fetchall() `` to `` rs `` in order to fetch all records in `` rs ``. Store them in the DataFrame `` df ``.\n",
    "*   Using the `` rs `` object, set the DataFrame's column names to the corresponding names of the table columns."
   ]
  },
  {
   "cell_type": "markdown",
   "metadata": {},
   "source": [
    "```python\n",
    "# Create engine: engine\n",
    "engine = create_engine(____)\n",
    "\n",
    "# Open engine in context manager\n",
    "# Perform query and save results to DataFrame: df\n",
    "with engine.connect() as con:\n",
    "    rs = con.execute(____)\n",
    "    df = pd.DataFrame(____)\n",
    "    df.columns = ____\n",
    "\n",
    "# Print the head of the DataFrame df\n",
    "print(df.head())```"
   ]
  },
  {
   "cell_type": "code",
   "execution_count": 25,
   "metadata": {},
   "outputs": [
    {
     "name": "stdout",
     "output_type": "stream",
     "text": [
      "   EmployeeId  LastName FirstName       Title  ReportsTo            BirthDate  \\\n",
      "0           6  Mitchell   Michael  IT Manager          1  1973-07-01 00:00:00   \n",
      "1           7      King    Robert    IT Staff          6  1970-05-29 00:00:00   \n",
      "2           8  Callahan     Laura    IT Staff          6  1968-01-09 00:00:00   \n",
      "\n",
      "              HireDate                      Address        City State Country  \\\n",
      "0  2003-10-17 00:00:00         5827 Bowness Road NW     Calgary    AB  Canada   \n",
      "1  2004-01-02 00:00:00  590 Columbia Boulevard West  Lethbridge    AB  Canada   \n",
      "2  2004-03-04 00:00:00                  923 7 ST NW  Lethbridge    AB  Canada   \n",
      "\n",
      "  PostalCode              Phone                Fax                    Email  \n",
      "0    T3B 0C5  +1 (403) 246-9887  +1 (403) 246-9899  michael@chinookcorp.com  \n",
      "1    T1K 5N8  +1 (403) 456-9986  +1 (403) 456-8485   robert@chinookcorp.com  \n",
      "2    T1H 1Y8  +1 (403) 467-3351  +1 (403) 467-8772    laura@chinookcorp.com  \n"
     ]
    }
   ],
   "source": [
    "# Create engine: engine\n",
    "engine = create_engine(\"sqlite:///Chinook.sqlite\")\n",
    "\n",
    "# Open engine in context manager\n",
    "# Perform query and save results to DataFrame: df\n",
    "with engine.connect() as con:\n",
    "    rs = con.execute('SELECT * FROM Employee WHERE EmployeeId >= 6')\n",
    "    df = pd.DataFrame(rs.fetchall())\n",
    "    df.columns = rs.keys()\n",
    "\n",
    "# Print the head of the DataFrame df\n",
    "\n",
    "\n",
    "print(df.head())"
   ]
  },
  {
   "cell_type": "markdown",
   "metadata": {},
   "source": [
    "---\n",
    "\n",
    "### exercise(10) - Ordering your SQL records with ORDER BY\n",
    "\n",
    "You can also _order_ your SQL query results. For example, if you wanted to get all records from the `` Customer `` table of the Chinook database and order them in increasing order by the column `` SupportRepId ``, you could do so with the following query:\n",
    "In fact, you can order any `` SELECT `` statement by any column.\n",
    "In this interactive exercise, you'll select all records of the `` Employee `` table and order them in increasing order by the column `` BirthDate ``.\n",
    "Packages are already imported as follows:\n",
    "Get querying!\n",
    "\n",
    "\n",
    "\n",
    "#### Instructions\n",
    "\n",
    "\n",
    "*   Using the function `` create_engine() ``, create an engine for the SQLite database `` Chinook.sqlite `` and assign it to the variable `` engine ``.\n",
    "*   In the context manager, execute the query that __selects__ _all_ records __from__ the `` Employee `` table and __orders__ them in increasing order __by__ the column `` BirthDate ``. Assign the result to `` rs ``.\n",
    "*   In a call to `` pd.DataFrame() ``, apply the method `` fetchall() `` to `` rs `` in order to fetch all records in `` rs ``. Store them in the DataFrame `` df ``.\n",
    "*   Set the DataFrame's column names to the corresponding names of the table columns.\n"
   ]
  },
  {
   "cell_type": "markdown",
   "metadata": {},
   "source": [
    "```python\n",
    "# Create engine: engine\n",
    "\n",
    "\n",
    "# Open engine in context manager\n",
    "with engine.connect() as con:\n",
    "    rs = ____\n",
    "    df = ____\n",
    "\n",
    "    # Set the DataFrame's column names\n",
    "\n",
    "\n",
    "# Print head of DataFrame\n",
    "print(df.head())```"
   ]
  },
  {
   "cell_type": "code",
   "execution_count": 26,
   "metadata": {},
   "outputs": [
    {
     "name": "stdout",
     "output_type": "stream",
     "text": [
      "   EmployeeId  LastName FirstName                Title  ReportsTo  \\\n",
      "0           4      Park  Margaret  Sales Support Agent        2.0   \n",
      "1           2   Edwards     Nancy        Sales Manager        1.0   \n",
      "2           1     Adams    Andrew      General Manager        NaN   \n",
      "3           5   Johnson     Steve  Sales Support Agent        2.0   \n",
      "4           8  Callahan     Laura             IT Staff        6.0   \n",
      "\n",
      "             BirthDate             HireDate              Address        City  \\\n",
      "0  1947-09-19 00:00:00  2003-05-03 00:00:00     683 10 Street SW     Calgary   \n",
      "1  1958-12-08 00:00:00  2002-05-01 00:00:00         825 8 Ave SW     Calgary   \n",
      "2  1962-02-18 00:00:00  2002-08-14 00:00:00  11120 Jasper Ave NW    Edmonton   \n",
      "3  1965-03-03 00:00:00  2003-10-17 00:00:00         7727B 41 Ave     Calgary   \n",
      "4  1968-01-09 00:00:00  2004-03-04 00:00:00          923 7 ST NW  Lethbridge   \n",
      "\n",
      "  State Country PostalCode              Phone                Fax  \\\n",
      "0    AB  Canada    T2P 5G3  +1 (403) 263-4423  +1 (403) 263-4289   \n",
      "1    AB  Canada    T2P 2T3  +1 (403) 262-3443  +1 (403) 262-3322   \n",
      "2    AB  Canada    T5K 2N1  +1 (780) 428-9482  +1 (780) 428-3457   \n",
      "3    AB  Canada    T3B 1Y7   1 (780) 836-9987   1 (780) 836-9543   \n",
      "4    AB  Canada    T1H 1Y8  +1 (403) 467-3351  +1 (403) 467-8772   \n",
      "\n",
      "                      Email  \n",
      "0  margaret@chinookcorp.com  \n",
      "1     nancy@chinookcorp.com  \n",
      "2    andrew@chinookcorp.com  \n",
      "3     steve@chinookcorp.com  \n",
      "4     laura@chinookcorp.com  \n"
     ]
    }
   ],
   "source": [
    "# Create engine: engine\n",
    "engine = create_engine(\"sqlite:///Chinook.sqlite\")\n",
    "\n",
    "# Open engine in context manager\n",
    "with engine.connect() as con:\n",
    "    rs =con.execute('SELECT * FROM Employee ORDER BY BirthDate')\n",
    "    df = pd.DataFrame(rs.fetchall())\n",
    "\n",
    "# Set the DataFrame's column names\n",
    "df.columns = rs.keys()\n",
    "\n",
    "# Print head of DataFrame\n",
    "print(df.head())\n"
   ]
  },
  {
   "cell_type": "markdown",
   "metadata": {},
   "source": [
    "---\n",
    "\n",
    "### exercise(12) - Pandas and The Hello World of SQL Queries!\n",
    "\n",
    "Here, you'll take advantage of the power of `` pandas `` to write the results of your SQL query to a DataFrame in one swift line of Python code!\n",
    "You'll first import `` pandas `` and create the SQLite `` 'Chinook.sqlite' `` engine. Then you'll query the database to select all records from the `` Album `` table.\n",
    "Recall that to select all records from the `` Orders `` table in the Northwind database, Hugo executed the following command:\n",
    "\n",
    "\n",
    "\n",
    "#### Instructions\n",
    "\n",
    "\n",
    "*   Import the `` pandas `` package using the alias `` pd ``.\n",
    "*   Using the function `` create_engine() ``, create an engine for the SQLite database `` Chinook.sqlite `` and assign it to the variable `` engine ``.\n",
    "*   Use the `` pandas `` function `` read_sql_query() `` to assign to the variable `` df `` the DataFrame of results from the following query: __select__ _all_ records __from__ the table `` Album ``.\n",
    "*   The remainder of the code is included to confirm that the DataFrame created by this method is equal to that created by the previous method that you learned.\n",
    "\n"
   ]
  },
  {
   "cell_type": "markdown",
   "metadata": {},
   "source": [
    "```python\n",
    "# Import packages\n",
    "from sqlalchemy import create_engine\n",
    "import ____ as ____\n",
    "\n",
    "# Create engine: engine\n",
    "\n",
    "\n",
    "# Execute query and store records in DataFrame: df\n",
    "df = pd.read_sql_query(____, ____)\n",
    "\n",
    "# Print head of DataFrame\n",
    "print(df.head())\n",
    "\n",
    "# Open engine in context manager and store query result in df1\n",
    "with engine.connect() as con:\n",
    "    rs = con.execute(\"SELECT * FROM Album\")\n",
    "    df1 = pd.DataFrame(rs.fetchall())\n",
    "    df1.columns = rs.keys()\n",
    "\n",
    "# Confirm that both methods yield the same result\n",
    "print(df.equals(df1))```"
   ]
  },
  {
   "cell_type": "code",
   "execution_count": 27,
   "metadata": {},
   "outputs": [
    {
     "name": "stdout",
     "output_type": "stream",
     "text": [
      "   AlbumId                                  Title  ArtistId\n",
      "0        1  For Those About To Rock We Salute You         1\n",
      "1        2                      Balls to the Wall         2\n",
      "2        3                      Restless and Wild         2\n",
      "3        4                      Let There Be Rock         1\n",
      "4        5                               Big Ones         3\n",
      "True\n"
     ]
    }
   ],
   "source": [
    "# Import packages\n",
    "from sqlalchemy import create_engine\n",
    "import pandas as pd\n",
    "\n",
    "# Create engine: engine\n",
    "engine = create_engine(\"sqlite:///Chinook.sqlite\")\n",
    "\n",
    "# Execute query and store records in DataFrame: df\n",
    "df = pd.read_sql_query('SELECT * FROM Album',engine)\n",
    "\n",
    "# Print head of DataFrame\n",
    "print(df.head())\n",
    "\n",
    "# Open engine in context manager and store query result in df1\n",
    "with engine.connect() as con:\n",
    "    rs = con.execute(\"SELECT * FROM Album\")\n",
    "    df1 = pd.DataFrame(rs.fetchall())\n",
    "    df1.columns = rs.keys()\n",
    "\n",
    "# Confirm that both methods yield the same result\n",
    "print(df.equals(df1))"
   ]
  },
  {
   "cell_type": "markdown",
   "metadata": {},
   "source": [
    "---\n",
    "\n",
    "### exercise(13) - Pandas for more complex querying\n",
    "\n",
    "Here, you'll become more familiar with the pandas function `` read_sql_query() `` by using it to execute a more complex query: a `` SELECT `` statement followed by both a `` WHERE `` clause AND an `` ORDER BY `` clause.\n",
    "You'll build a DataFrame that contains the rows of the `` Employee `` table for which the `` EmployeeId `` is greater than or equal to `` 6 `` and you'll order these entries by `` BirthDate ``.\n",
    "\n",
    "\n",
    "\n",
    "#### Instructions\n",
    "\n",
    "\n",
    "*   Using the function `` create_engine() ``, create an engine for the SQLite database `` Chinook.sqlite `` and assign it to the variable `` engine ``.\n",
    "*   Use the `` pandas `` function `` read_sql_query() `` to assign to the variable `` df `` the DataFrame of results from the following query: __select__ _all_ records __from__ the `` Employee `` table __where__ the `` EmployeeId `` is greater than or equal to `` 6 `` and __ordered by__ `` BirthDate `` (make sure to use `` WHERE `` and `` ORDER BY `` in this precise order).\n",
    "\n"
   ]
  },
  {
   "cell_type": "markdown",
   "metadata": {},
   "source": [
    "```python\n",
    "# Import packages\n",
    "from sqlalchemy import create_engine\n",
    "import pandas as pd\n",
    "\n",
    "# Create engine: engine\n",
    "\n",
    "\n",
    "# Execute query and store records in DataFrame: df\n",
    "\n",
    "\n",
    "# Print head of DataFrame\n",
    "print(df.head())```"
   ]
  },
  {
   "cell_type": "code",
   "execution_count": 28,
   "metadata": {},
   "outputs": [
    {
     "name": "stdout",
     "output_type": "stream",
     "text": [
      "   EmployeeId  LastName FirstName       Title  ReportsTo            BirthDate  \\\n",
      "0           8  Callahan     Laura    IT Staff          6  1968-01-09 00:00:00   \n",
      "1           7      King    Robert    IT Staff          6  1970-05-29 00:00:00   \n",
      "2           6  Mitchell   Michael  IT Manager          1  1973-07-01 00:00:00   \n",
      "\n",
      "              HireDate                      Address        City State Country  \\\n",
      "0  2004-03-04 00:00:00                  923 7 ST NW  Lethbridge    AB  Canada   \n",
      "1  2004-01-02 00:00:00  590 Columbia Boulevard West  Lethbridge    AB  Canada   \n",
      "2  2003-10-17 00:00:00         5827 Bowness Road NW     Calgary    AB  Canada   \n",
      "\n",
      "  PostalCode              Phone                Fax                    Email  \n",
      "0    T1H 1Y8  +1 (403) 467-3351  +1 (403) 467-8772    laura@chinookcorp.com  \n",
      "1    T1K 5N8  +1 (403) 456-9986  +1 (403) 456-8485   robert@chinookcorp.com  \n",
      "2    T3B 0C5  +1 (403) 246-9887  +1 (403) 246-9899  michael@chinookcorp.com  \n"
     ]
    }
   ],
   "source": [
    "# Import packages\n",
    "from sqlalchemy import create_engine\n",
    "import pandas as pd\n",
    "\n",
    "# Create engine: engine\n",
    "engine = create_engine(\"sqlite:///Chinook.sqlite\")\n",
    "\n",
    "# Execute query and store records in DataFrame: df\n",
    "df=pd.read_sql_query('SELECT *FROM Employee WHERE EmployeeId >=6 ORDER BY BirthDate',engine)\n",
    "\n",
    "# Print head of DataFrame\n",
    "print(df.head())\n"
   ]
  },
  {
   "cell_type": "markdown",
   "metadata": {},
   "source": [
    "---\n",
    "\n",
    "### exercise(15) - The power of SQL lies in relationships between tables: INNER JOIN\n",
    "\n",
    "Here, you'll perform your first `` INNER JOIN ``! You'll be working with your favourite SQLite database, `` Chinook.sqlite ``. For each record in the `` Album `` table, you'll extract the `` Title `` along with the `` Name `` of the `` Artist ``. The latter will come from the `` Artist `` table and so you will need to `` INNER JOIN `` these two tables on the `` ArtistID `` column of both.\n",
    "Recall that to `` INNER JOIN `` the `` Orders `` and `` Customers `` tables from the Northwind database, Hugo executed the following SQL query:\n",
    "The following code has already been executed to import the necessary packages and to create the engine:\n",
    "\n",
    "\n",
    "\n",
    "#### Instructions\n",
    "\n",
    "\n",
    "*   Assign to `` rs `` the results from the following query: __select__ _all_ the records, extracting the `` Title `` of the record and `` Name `` of the artist of each record __from__ the `` Album `` table and the `` Artist `` table, respectively. To do so, `` INNER JOIN `` these two tables on the `` ArtistID `` column of both.\n",
    "*   In a call to `` pd.DataFrame() ``, apply the method `` fetchall() `` to `` rs `` in order to fetch all records in `` rs ``. Store them in the DataFrame `` df ``.\n",
    "*   Set the DataFrame's column names to the corresponding names of the table columns.\n"
   ]
  },
  {
   "cell_type": "markdown",
   "metadata": {},
   "source": [
    "```python\n",
    "# Open engine in context manager\n",
    "# Perform query and save results to DataFrame: df\n",
    "with engine.connect() as con:\n",
    "    ____\n",
    "    ____\n",
    "    ____\n",
    "\n",
    "# Print head of DataFrame df\n",
    "print(df.head())```\n"
   ]
  },
  {
   "cell_type": "code",
   "execution_count": 29,
   "metadata": {},
   "outputs": [
    {
     "name": "stdout",
     "output_type": "stream",
     "text": [
      "                                   Title       Name\n",
      "0  For Those About To Rock We Salute You      AC/DC\n",
      "1                      Balls to the Wall     Accept\n",
      "2                      Restless and Wild     Accept\n",
      "3                      Let There Be Rock      AC/DC\n",
      "4                               Big Ones  Aerosmith\n"
     ]
    }
   ],
   "source": [
    "# Open engine in context manager\n",
    "# Perform query and save results to DataFrame: df\n",
    "with engine.connect() as con:\n",
    "    rs = con.execute(\"SELECT Title,Name FROM Album INNER JOIN Artist on Album.ArtistID = Artist.ArtistID\")\n",
    "    df= pd.DataFrame(rs.fetchall())\n",
    "    df.columns = rs.keys()\n",
    "\n",
    "# Print head of DataFrame df\n",
    "print(df.head())"
   ]
  },
  {
   "cell_type": "markdown",
   "metadata": {},
   "source": [
    "---\n",
    "\n",
    "### ecercise(16) - Filtering your INNER JOIN\n",
    "\n",
    "Congrats on performing your first `` INNER JOIN ``! You're now going to finish this chapter with one final exercise in which you perform an `` INNER JOIN `` and filter the result using a `` WHERE `` clause.\n",
    "Recall that to `` INNER JOIN `` the `` Orders `` and `` Customers `` tables from the Northwind database, Hugo executed the following SQL query:\n",
    "The following code has already been executed to import the necessary packages and to create the engine:\n",
    "\n",
    "\n",
    "\n",
    "#### Instructions\n",
    "\n",
    "\n",
    "*   Use the `` pandas `` function `` read_sql_query() `` to assign to the variable `` df `` the DataFrame of results from the following query: __select__ _all_ records __from__ `` PlaylistTrack INNER JOIN Track on PlaylistTrack.TrackId = Track.TrackId `` that satisfy the condition `` Milliseconds &lt; 250000 ``.\n"
   ]
  },
  {
   "cell_type": "markdown",
   "metadata": {},
   "source": [
    "```python\n",
    "# Execute query and store records in DataFrame: df\n",
    "\n",
    "\n",
    "# Print head of DataFrame\n",
    "print(df.head())```"
   ]
  },
  {
   "cell_type": "code",
   "execution_count": 30,
   "metadata": {},
   "outputs": [
    {
     "name": "stdout",
     "output_type": "stream",
     "text": [
      "   PlaylistId  TrackId  TrackId              Name  AlbumId  MediaTypeId  \\\n",
      "0           1     3390     3390  One and the Same      271            2   \n",
      "1           1     3392     3392     Until We Fall      271            2   \n",
      "2           1     3393     3393     Original Fire      271            2   \n",
      "3           1     3394     3394       Broken City      271            2   \n",
      "4           1     3395     3395          Somedays      271            2   \n",
      "\n",
      "   GenreId Composer  Milliseconds    Bytes  UnitPrice  \n",
      "0       23     None        217732  3559040       0.99  \n",
      "1       23     None        230758  3766605       0.99  \n",
      "2       23     None        218916  3577821       0.99  \n",
      "3       23     None        228366  3728955       0.99  \n",
      "4       23     None        213831  3497176       0.99  \n"
     ]
    }
   ],
   "source": [
    "# Execute query and store records in DataFrame: df\n",
    "df = pd.read_sql_query(\"SELECT * FROM PlaylistTrack INNER JOIN Track on PlaylistTrack.TrackId = Track.TrackId WHERE Milliseconds < 250000\",engine)\n",
    "\n",
    "# Print head of DataFrame\n",
    "print(df.head())"
   ]
  }
 ],
 "metadata": {
  "kernelspec": {
   "display_name": "Python 3",
   "language": "python",
   "name": "python3"
  },
  "language_info": {
   "codemirror_mode": {
    "name": "ipython",
    "version": 3
   },
   "file_extension": ".py",
   "mimetype": "text/x-python",
   "name": "python",
   "nbconvert_exporter": "python",
   "pygments_lexer": "ipython3",
   "version": "3.7.1"
  }
 },
 "nbformat": 4,
 "nbformat_minor": 2
}
